{
 "metadata": {
  "language_info": {
   "codemirror_mode": {
    "name": "ipython",
    "version": 3
   },
   "file_extension": ".py",
   "mimetype": "text/x-python",
   "name": "python",
   "nbconvert_exporter": "python",
   "pygments_lexer": "ipython3",
   "version": "3.8.4-final"
  },
  "orig_nbformat": 2,
  "kernelspec": {
   "name": "Python 3.8.4 64-bit",
   "display_name": "Python 3.8.4 64-bit",
   "metadata": {
    "interpreter": {
     "hash": "4e27cd7776539bc1371ccf1e86fabc70cbc052a858d630d3f34b1caeac2d60e5"
    }
   }
  }
 },
 "nbformat": 4,
 "nbformat_minor": 2,
 "cells": [
  {
   "source": [
    "# CISC 451/839 Topics in Data Analytics \n",
    "## Assignment 3 - Customer Segmentation for Online Retail Using Unsupervised Learning \n",
    "### Gavin McClelland - 10211444 \n",
    "### Marshall Cunningham - 20249991\n",
    "\n",
    "The objectives of this notebook are as follows: \n",
    "- to segment customers into meaningful clusters using unsupervised learning in conjunction with the Recency, Frequency, and Monetary (RFM) model\n",
    "- Identify the main characteristics of the consumers in each customer segment \n",
    "\n",
    "Detailed statistics, distinct features, and distribution of customers within each cluster will be analyzed in this notebook, but will be discussed in further detail in the accompanying report\n",
    "\n",
    "## Contents\n",
    "\n",
    "The analytics process contained in this notebook is as follows:\n",
    "\n",
    "1. Basic Data Acquisition (from provided dataset)\n",
    "2. Data Preparation (feature engineering and selection)\n",
    "- Developing an RFM model using the provided dataset\n",
    "3. Unsupervised Learning\n",
    "4. Model Optimization and Selection"
   ],
   "cell_type": "markdown",
   "metadata": {}
  },
  {
   "cell_type": "code",
   "execution_count": 1,
   "metadata": {
    "tags": []
   },
   "outputs": [
    {
     "output_type": "stream",
     "name": "stdout",
     "text": [
      "C:\\Users\\gmcclelland\\Desktop\\Misc School Stuff\\repo\\CISC451\\a3\n"
     ]
    }
   ],
   "source": [
    "import pandas as pd \n",
    "%cd \"C:\\Users\\gmcclelland\\Desktop\\Misc School Stuff\\repo\\CISC451\\a3\""
   ]
  },
  {
   "cell_type": "code",
   "execution_count": 2,
   "metadata": {},
   "outputs": [],
   "source": [
    "df = pd.read_excel('data/Online Retail.xlsx')"
   ]
  },
  {
   "cell_type": "code",
   "execution_count": 3,
   "metadata": {
    "tags": []
   },
   "outputs": [
    {
     "output_type": "stream",
     "name": "stdout",
     "text": [
      "<class 'pandas.core.frame.DataFrame'>\nRangeIndex: 541909 entries, 0 to 541908\nData columns (total 8 columns):\n #   Column       Non-Null Count   Dtype         \n---  ------       --------------   -----         \n 0   InvoiceNo    541909 non-null  object        \n 1   StockCode    541909 non-null  object        \n 2   Description  540455 non-null  object        \n 3   Quantity     541909 non-null  int64         \n 4   InvoiceDate  541909 non-null  datetime64[ns]\n 5   UnitPrice    541909 non-null  float64       \n 6   CustomerID   406829 non-null  float64       \n 7   Country      541909 non-null  object        \ndtypes: datetime64[ns](1), float64(2), int64(1), object(4)\nmemory usage: 33.1+ MB\n"
     ]
    }
   ],
   "source": [
    "df.info()"
   ]
  },
  {
   "cell_type": "code",
   "execution_count": 5,
   "metadata": {},
   "outputs": [
    {
     "output_type": "execute_result",
     "data": {
      "text/plain": [
       "135080"
      ]
     },
     "metadata": {},
     "execution_count": 5
    }
   ],
   "source": [
    "df.loc[df['CustomerID'].isnull()].shape[0]"
   ]
  },
  {
   "cell_type": "code",
   "execution_count": null,
   "metadata": {},
   "outputs": [],
   "source": []
  }
 ]
}