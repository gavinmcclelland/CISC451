{
 "metadata": {
  "language_info": {
   "codemirror_mode": {
    "name": "ipython",
    "version": 3
   },
   "file_extension": ".py",
   "mimetype": "text/x-python",
   "name": "python",
   "nbconvert_exporter": "python",
   "pygments_lexer": "ipython3",
   "version": "3.8.1-final"
  },
  "orig_nbformat": 2,
  "kernelspec": {
   "name": "Python 3.8.1 32-bit ('451': venv)",
   "display_name": "Python 3.8.1 32-bit ('451': venv)",
   "metadata": {
    "interpreter": {
     "hash": "5a2779a69ad6f21c5aa8f68300bdd0d0a3242eb5a44ab10b1a717adcd25be859"
    }
   }
  }
 },
 "nbformat": 4,
 "nbformat_minor": 2,
 "cells": [
  {
   "cell_type": "code",
   "execution_count": 2,
   "metadata": {
    "tags": []
   },
   "outputs": [
    {
     "output_type": "stream",
     "name": "stdout",
     "text": "C:\\Users\\Gamer\\Desktop\\CISC 451\\CISC451\\a3\n"
    }
   ],
   "source": [
    "import pandas as pd \n",
    "%cd \"C:\\Users\\Gamer\\Desktop\\CISC 451\\CISC451\\a3\""
   ]
  },
  {
   "cell_type": "code",
   "execution_count": 3,
   "metadata": {},
   "outputs": [],
   "source": [
    "df = pd.read_excel('data/Online Retail.xlsx')"
   ]
  },
  {
   "cell_type": "code",
   "execution_count": 5,
   "metadata": {
    "tags": []
   },
   "outputs": [
    {
     "output_type": "stream",
     "name": "stdout",
     "text": "&lt;class &#39;pandas.core.frame.DataFrame&#39;&gt;\nRangeIndex: 541909 entries, 0 to 541908\nData columns (total 8 columns):\n #   Column       Non-Null Count   Dtype         \n---  ------       --------------   -----         \n 0   InvoiceNo    541909 non-null  object        \n 1   StockCode    541909 non-null  object        \n 2   Description  540455 non-null  object        \n 3   Quantity     541909 non-null  int64         \n 4   InvoiceDate  541909 non-null  datetime64[ns]\n 5   UnitPrice    541909 non-null  float64       \n 6   CustomerID   406829 non-null  float64       \n 7   Country      541909 non-null  object        \ndtypes: datetime64[ns](1), float64(2), int64(1), object(4)\nmemory usage: 24.8+ MB\n"
    }
   ],
   "source": [
    "df.info()"
   ]
  },
  {
   "cell_type": "code",
   "execution_count": null,
   "metadata": {},
   "outputs": [],
   "source": []
  }
 ]
}