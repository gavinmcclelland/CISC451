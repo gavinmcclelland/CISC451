{
 "metadata": {
  "language_info": {
   "codemirror_mode": {
    "name": "ipython",
    "version": 3
   },
   "file_extension": ".py",
   "mimetype": "text/x-python",
   "name": "python",
   "nbconvert_exporter": "python",
   "pygments_lexer": "ipython3",
   "version": "3.8.4-final"
  },
  "orig_nbformat": 2,
  "kernelspec": {
   "name": "Python 3.8.4 64-bit ('CISC451': venv)",
   "display_name": "Python 3.8.4 64-bit ('CISC451': venv)",
   "metadata": {
    "interpreter": {
     "hash": "4e27cd7776539bc1371ccf1e86fabc70cbc052a858d630d3f34b1caeac2d60e5"
    }
   }
  }
 },
 "nbformat": 4,
 "nbformat_minor": 2,
 "cells": [
  {
   "cell_type": "code",
   "execution_count": 1,
   "metadata": {},
   "outputs": [
    {
     "output_type": "stream",
     "name": "stdout",
     "text": [
      "C:\\Users\\gmcclelland\\Desktop\\Misc School Stuff\\repo\\CISC451\\project\\data\n"
     ]
    }
   ],
   "source": [
    "import numpy as np \n",
    "import pandas as pd \n",
    "import matplotlib.pyplot as plt\n",
    "%cd \"C:\\Users\\gmcclelland\\Desktop\\Misc School Stuff\\repo\\CISC451\\project\\data\"\n",
    "%matplotlib inline"
   ]
  },
  {
   "source": [
    "## Simple EDA of Player-Level Data\n",
    "With event-level data already explored, the next layer of abstraction to explore is player-level information contained in the file 'skaterstats_2017-2018_2018-2019.csv', which contains player-level aggregate information by unique game_id "
   ],
   "cell_type": "markdown",
   "metadata": {}
  },
  {
   "cell_type": "code",
   "execution_count": 2,
   "metadata": {},
   "outputs": [],
   "source": [
    "# Once again, loading selected relevant datasets\n",
    "plays = pd.read_csv('plays_2017-2018_2018-2019.csv')\n",
    "# games = pd.read_csv('games_2017-2018_2018-2019.csv')\n",
    "skater_stats = pd.read_csv('skaterstats_2017-2018_2018-2019.csv')\n",
    "# team_stats = pd.read_csv('teamstats_2017-2018_2018-2019.csv')\n",
    "s_info = pd.read_csv('player_info.csv') # static library of players\n",
    "t_info = pd.read_csv('team_info.csv') # static library of teams"
   ]
  },
  {
   "source": [
    "### Simple Metadata\n",
    " Understanding what there is to work with at the player-level"
   ],
   "cell_type": "markdown",
   "metadata": {}
  },
  {
   "cell_type": "code",
   "execution_count": 3,
   "metadata": {},
   "outputs": [
    {
     "output_type": "execute_result",
     "data": {
      "text/plain": [
       "   player_id firstName      lastName nationality birthCity primaryPosition  \\\n",
       "0    8467412    Alexei  Ponikarovsky         UKR      Kiev              LW   \n",
       "1    8468501     Anton    Volchenkov         RUS    Moscow               D   \n",
       "2    8459670     Kimmo       Timonen         FIN    Kuopio               D   \n",
       "3    8471233    Travis         Zajac         CAN  Winnipeg               C   \n",
       "4    8455710    Martin       Brodeur         CAN  Montreal               G   \n",
       "\n",
       "    birthDate                    link  \n",
       "0  1980-04-09  /api/v1/people/8467412  \n",
       "1  1982-02-25  /api/v1/people/8468501  \n",
       "2  1975-03-18  /api/v1/people/8459670  \n",
       "3  1985-05-13  /api/v1/people/8471233  \n",
       "4  1972-05-06  /api/v1/people/8455710  "
      ],
      "text/html": "<div>\n<style scoped>\n    .dataframe tbody tr th:only-of-type {\n        vertical-align: middle;\n    }\n\n    .dataframe tbody tr th {\n        vertical-align: top;\n    }\n\n    .dataframe thead th {\n        text-align: right;\n    }\n</style>\n<table border=\"1\" class=\"dataframe\">\n  <thead>\n    <tr style=\"text-align: right;\">\n      <th></th>\n      <th>player_id</th>\n      <th>firstName</th>\n      <th>lastName</th>\n      <th>nationality</th>\n      <th>birthCity</th>\n      <th>primaryPosition</th>\n      <th>birthDate</th>\n      <th>link</th>\n    </tr>\n  </thead>\n  <tbody>\n    <tr>\n      <th>0</th>\n      <td>8467412</td>\n      <td>Alexei</td>\n      <td>Ponikarovsky</td>\n      <td>UKR</td>\n      <td>Kiev</td>\n      <td>LW</td>\n      <td>1980-04-09</td>\n      <td>/api/v1/people/8467412</td>\n    </tr>\n    <tr>\n      <th>1</th>\n      <td>8468501</td>\n      <td>Anton</td>\n      <td>Volchenkov</td>\n      <td>RUS</td>\n      <td>Moscow</td>\n      <td>D</td>\n      <td>1982-02-25</td>\n      <td>/api/v1/people/8468501</td>\n    </tr>\n    <tr>\n      <th>2</th>\n      <td>8459670</td>\n      <td>Kimmo</td>\n      <td>Timonen</td>\n      <td>FIN</td>\n      <td>Kuopio</td>\n      <td>D</td>\n      <td>1975-03-18</td>\n      <td>/api/v1/people/8459670</td>\n    </tr>\n    <tr>\n      <th>3</th>\n      <td>8471233</td>\n      <td>Travis</td>\n      <td>Zajac</td>\n      <td>CAN</td>\n      <td>Winnipeg</td>\n      <td>C</td>\n      <td>1985-05-13</td>\n      <td>/api/v1/people/8471233</td>\n    </tr>\n    <tr>\n      <th>4</th>\n      <td>8455710</td>\n      <td>Martin</td>\n      <td>Brodeur</td>\n      <td>CAN</td>\n      <td>Montreal</td>\n      <td>G</td>\n      <td>1972-05-06</td>\n      <td>/api/v1/people/8455710</td>\n    </tr>\n  </tbody>\n</table>\n</div>"
     },
     "metadata": {},
     "execution_count": 3
    }
   ],
   "source": [
    "s_info.head() # number of players in the library, s_info.shape = 2409 players in file"
   ]
  },
  {
   "cell_type": "code",
   "execution_count": 4,
   "metadata": {},
   "outputs": [
    {
     "output_type": "execute_result",
     "data": {
      "text/plain": [
       "      game_id  player_id  team_id  timeOnIce  assists  goals  shots  hits  \\\n",
       "0  2017030241    8468542       28        601        0      0      0     1   \n",
       "1  2017030242    8468542       28        638        0      0      1     1   \n",
       "2  2017030243    8468542       28        935        0      0      0     3   \n",
       "3  2017030181    8468542       28        947        0      0      1     0   \n",
       "4  2017030182    8468542       28        995        0      0      1     1   \n",
       "\n",
       "   powerPlayGoals  powerPlayAssists  ...  evenTimeOnIce  shortHandedTimeOnIce  \\\n",
       "0               0                 0  ...            529                    60   \n",
       "1               0                 0  ...            638                     0   \n",
       "2               0                 0  ...            888                    47   \n",
       "3               0                 0  ...            908                    39   \n",
       "4               0                 0  ...            995                     0   \n",
       "\n",
       "   powerPlayTimeOnIce  firstName  lastName  nationality    birthCity  \\\n",
       "0                  12       Paul    Martin          USA  Minneapolis   \n",
       "1                   0       Paul    Martin          USA  Minneapolis   \n",
       "2                   0       Paul    Martin          USA  Minneapolis   \n",
       "3                   0       Paul    Martin          USA  Minneapolis   \n",
       "4                   0       Paul    Martin          USA  Minneapolis   \n",
       "\n",
       "   primaryPosition   birthDate                    link  \n",
       "0                D  1981-03-05  /api/v1/people/8468542  \n",
       "1                D  1981-03-05  /api/v1/people/8468542  \n",
       "2                D  1981-03-05  /api/v1/people/8468542  \n",
       "3                D  1981-03-05  /api/v1/people/8468542  \n",
       "4                D  1981-03-05  /api/v1/people/8468542  \n",
       "\n",
       "[5 rows x 29 columns]"
      ],
      "text/html": "<div>\n<style scoped>\n    .dataframe tbody tr th:only-of-type {\n        vertical-align: middle;\n    }\n\n    .dataframe tbody tr th {\n        vertical-align: top;\n    }\n\n    .dataframe thead th {\n        text-align: right;\n    }\n</style>\n<table border=\"1\" class=\"dataframe\">\n  <thead>\n    <tr style=\"text-align: right;\">\n      <th></th>\n      <th>game_id</th>\n      <th>player_id</th>\n      <th>team_id</th>\n      <th>timeOnIce</th>\n      <th>assists</th>\n      <th>goals</th>\n      <th>shots</th>\n      <th>hits</th>\n      <th>powerPlayGoals</th>\n      <th>powerPlayAssists</th>\n      <th>...</th>\n      <th>evenTimeOnIce</th>\n      <th>shortHandedTimeOnIce</th>\n      <th>powerPlayTimeOnIce</th>\n      <th>firstName</th>\n      <th>lastName</th>\n      <th>nationality</th>\n      <th>birthCity</th>\n      <th>primaryPosition</th>\n      <th>birthDate</th>\n      <th>link</th>\n    </tr>\n  </thead>\n  <tbody>\n    <tr>\n      <th>0</th>\n      <td>2017030241</td>\n      <td>8468542</td>\n      <td>28</td>\n      <td>601</td>\n      <td>0</td>\n      <td>0</td>\n      <td>0</td>\n      <td>1</td>\n      <td>0</td>\n      <td>0</td>\n      <td>...</td>\n      <td>529</td>\n      <td>60</td>\n      <td>12</td>\n      <td>Paul</td>\n      <td>Martin</td>\n      <td>USA</td>\n      <td>Minneapolis</td>\n      <td>D</td>\n      <td>1981-03-05</td>\n      <td>/api/v1/people/8468542</td>\n    </tr>\n    <tr>\n      <th>1</th>\n      <td>2017030242</td>\n      <td>8468542</td>\n      <td>28</td>\n      <td>638</td>\n      <td>0</td>\n      <td>0</td>\n      <td>1</td>\n      <td>1</td>\n      <td>0</td>\n      <td>0</td>\n      <td>...</td>\n      <td>638</td>\n      <td>0</td>\n      <td>0</td>\n      <td>Paul</td>\n      <td>Martin</td>\n      <td>USA</td>\n      <td>Minneapolis</td>\n      <td>D</td>\n      <td>1981-03-05</td>\n      <td>/api/v1/people/8468542</td>\n    </tr>\n    <tr>\n      <th>2</th>\n      <td>2017030243</td>\n      <td>8468542</td>\n      <td>28</td>\n      <td>935</td>\n      <td>0</td>\n      <td>0</td>\n      <td>0</td>\n      <td>3</td>\n      <td>0</td>\n      <td>0</td>\n      <td>...</td>\n      <td>888</td>\n      <td>47</td>\n      <td>0</td>\n      <td>Paul</td>\n      <td>Martin</td>\n      <td>USA</td>\n      <td>Minneapolis</td>\n      <td>D</td>\n      <td>1981-03-05</td>\n      <td>/api/v1/people/8468542</td>\n    </tr>\n    <tr>\n      <th>3</th>\n      <td>2017030181</td>\n      <td>8468542</td>\n      <td>28</td>\n      <td>947</td>\n      <td>0</td>\n      <td>0</td>\n      <td>1</td>\n      <td>0</td>\n      <td>0</td>\n      <td>0</td>\n      <td>...</td>\n      <td>908</td>\n      <td>39</td>\n      <td>0</td>\n      <td>Paul</td>\n      <td>Martin</td>\n      <td>USA</td>\n      <td>Minneapolis</td>\n      <td>D</td>\n      <td>1981-03-05</td>\n      <td>/api/v1/people/8468542</td>\n    </tr>\n    <tr>\n      <th>4</th>\n      <td>2017030182</td>\n      <td>8468542</td>\n      <td>28</td>\n      <td>995</td>\n      <td>0</td>\n      <td>0</td>\n      <td>1</td>\n      <td>1</td>\n      <td>0</td>\n      <td>0</td>\n      <td>...</td>\n      <td>995</td>\n      <td>0</td>\n      <td>0</td>\n      <td>Paul</td>\n      <td>Martin</td>\n      <td>USA</td>\n      <td>Minneapolis</td>\n      <td>D</td>\n      <td>1981-03-05</td>\n      <td>/api/v1/people/8468542</td>\n    </tr>\n  </tbody>\n</table>\n<p>5 rows × 29 columns</p>\n</div>"
     },
     "metadata": {},
     "execution_count": 4
    }
   ],
   "source": [
    "skater_stats.head() # here we see that we can merge on player_id in the info table to get more metadata on each player (i.e. name), so let's do that:\n",
    "skater_stats= pd.merge(skater_stats,s_info,on='player_id')\n",
    "skater_stats.head()"
   ]
  },
  {
   "cell_type": "code",
   "execution_count": 5,
   "metadata": {},
   "outputs": [],
   "source": [
    "# Next, we can also introduce team-level info by joining on 'team_id' to get team-level metadata\n",
    "skater_stats=pd.merge(skater_stats,t_info,on='team_id')"
   ]
  },
  {
   "cell_type": "code",
   "execution_count": 6,
   "metadata": {},
   "outputs": [
    {
     "output_type": "execute_result",
     "data": {
      "text/plain": [
       "Index(['game_id', 'player_id', 'team_id', 'timeOnIce', 'assists', 'goals',\n",
       "       'shots', 'hits', 'powerPlayGoals', 'powerPlayAssists', 'penaltyMinutes',\n",
       "       'faceOffWins', 'faceoffTaken', 'takeaways', 'giveaways',\n",
       "       'shortHandedGoals', 'shortHandedAssists', 'blocked', 'plusMinus',\n",
       "       'evenTimeOnIce', 'shortHandedTimeOnIce', 'powerPlayTimeOnIce',\n",
       "       'firstName', 'lastName', 'nationality', 'birthCity', 'primaryPosition',\n",
       "       'birthDate', 'link_x', 'franchiseId', 'shortName', 'teamName',\n",
       "       'abbreviation', 'link_y'],\n",
       "      dtype='object')"
      ]
     },
     "metadata": {},
     "execution_count": 6
    }
   ],
   "source": [
    "skater_stats.columns"
   ]
  },
  {
   "source": [
    "Above, we can see that the player-level stats contain aggregates of individual events on a game-by-game basis. This dataset also includes a breakdown of certain aggregates on special teams (powerPlay and shortHanded metrics)\n",
    "\n",
    "- This is particularly useful moving forward because most of this data is numeric"
   ],
   "cell_type": "markdown",
   "metadata": {}
  },
  {
   "cell_type": "code",
   "execution_count": 7,
   "metadata": {},
   "outputs": [
    {
     "output_type": "execute_result",
     "data": {
      "text/plain": [
       "            game_id     player_id       team_id     timeOnIce       assists  \\\n",
       "count  9.766700e+04  9.766700e+04  97667.000000  97667.000000  97667.000000   \n",
       "mean   2.017522e+09  8.475542e+06     19.069430    991.480992      0.275671   \n",
       "std    5.000178e+05  2.856850e+03     13.963456    282.648528      0.549999   \n",
       "min    2.017020e+09  8.448208e+06      1.000000      9.000000      0.000000   \n",
       "25%    2.017021e+09  8.474150e+06      8.000000    799.000000      0.000000   \n",
       "50%    2.018020e+09  8.476207e+06     17.000000    991.000000      0.000000   \n",
       "75%    2.018021e+09  8.477492e+06     25.000000   1182.500000      0.000000   \n",
       "max    2.018030e+09  8.481486e+06     54.000000   2698.000000      5.000000   \n",
       "\n",
       "              goals         shots          hits  powerPlayGoals  \\\n",
       "count  97667.000000  97667.000000  97667.000000    97667.000000   \n",
       "mean       0.163894      1.759776      1.257262        0.033379   \n",
       "std        0.421451      1.558404      1.428104        0.185954   \n",
       "min        0.000000      0.000000      0.000000        0.000000   \n",
       "25%        0.000000      1.000000      0.000000        0.000000   \n",
       "50%        0.000000      1.000000      1.000000        0.000000   \n",
       "75%        0.000000      3.000000      2.000000        0.000000   \n",
       "max        5.000000     13.000000     15.000000        3.000000   \n",
       "\n",
       "       powerPlayAssists  ...    takeaways     giveaways  shortHandedGoals  \\\n",
       "count      97667.000000  ...  97667.00000  97667.000000      97667.000000   \n",
       "mean           0.063624  ...      0.41920      0.521343          0.004761   \n",
       "std            0.263567  ...      0.69901      0.803843          0.069576   \n",
       "min            0.000000  ...      0.00000      0.000000          0.000000   \n",
       "25%            0.000000  ...      0.00000      0.000000          0.000000   \n",
       "50%            0.000000  ...      0.00000      0.000000          0.000000   \n",
       "75%            0.000000  ...      1.00000      1.000000          0.000000   \n",
       "max            4.000000  ...      8.00000      8.000000          2.000000   \n",
       "\n",
       "       shortHandedAssists       blocked     plusMinus  evenTimeOnIce  \\\n",
       "count        97667.000000  97667.000000  97667.000000   97667.000000   \n",
       "mean             0.004833      0.811021     -0.009225     843.060870   \n",
       "std              0.069498      1.095014      1.169114     233.480569   \n",
       "min              0.000000      0.000000     -6.000000       9.000000   \n",
       "25%              0.000000      0.000000     -1.000000     685.000000   \n",
       "50%              0.000000      0.000000      0.000000     838.000000   \n",
       "75%              0.000000      1.000000      1.000000     998.000000   \n",
       "max              2.000000     11.000000      6.000000    2234.000000   \n",
       "\n",
       "       shortHandedTimeOnIce  powerPlayTimeOnIce   franchiseId  \n",
       "count          97667.000000        97667.000000  97667.000000  \n",
       "mean              65.766881           82.653240     22.531418  \n",
       "std               81.416277           99.864139      9.940990  \n",
       "min                0.000000            0.000000      1.000000  \n",
       "25%                0.000000            0.000000     15.000000  \n",
       "50%               35.000000           46.000000     23.000000  \n",
       "75%              111.000000          141.000000     31.000000  \n",
       "max              723.000000          714.000000     38.000000  \n",
       "\n",
       "[8 rows x 23 columns]"
      ],
      "text/html": "<div>\n<style scoped>\n    .dataframe tbody tr th:only-of-type {\n        vertical-align: middle;\n    }\n\n    .dataframe tbody tr th {\n        vertical-align: top;\n    }\n\n    .dataframe thead th {\n        text-align: right;\n    }\n</style>\n<table border=\"1\" class=\"dataframe\">\n  <thead>\n    <tr style=\"text-align: right;\">\n      <th></th>\n      <th>game_id</th>\n      <th>player_id</th>\n      <th>team_id</th>\n      <th>timeOnIce</th>\n      <th>assists</th>\n      <th>goals</th>\n      <th>shots</th>\n      <th>hits</th>\n      <th>powerPlayGoals</th>\n      <th>powerPlayAssists</th>\n      <th>...</th>\n      <th>takeaways</th>\n      <th>giveaways</th>\n      <th>shortHandedGoals</th>\n      <th>shortHandedAssists</th>\n      <th>blocked</th>\n      <th>plusMinus</th>\n      <th>evenTimeOnIce</th>\n      <th>shortHandedTimeOnIce</th>\n      <th>powerPlayTimeOnIce</th>\n      <th>franchiseId</th>\n    </tr>\n  </thead>\n  <tbody>\n    <tr>\n      <th>count</th>\n      <td>9.766700e+04</td>\n      <td>9.766700e+04</td>\n      <td>97667.000000</td>\n      <td>97667.000000</td>\n      <td>97667.000000</td>\n      <td>97667.000000</td>\n      <td>97667.000000</td>\n      <td>97667.000000</td>\n      <td>97667.000000</td>\n      <td>97667.000000</td>\n      <td>...</td>\n      <td>97667.00000</td>\n      <td>97667.000000</td>\n      <td>97667.000000</td>\n      <td>97667.000000</td>\n      <td>97667.000000</td>\n      <td>97667.000000</td>\n      <td>97667.000000</td>\n      <td>97667.000000</td>\n      <td>97667.000000</td>\n      <td>97667.000000</td>\n    </tr>\n    <tr>\n      <th>mean</th>\n      <td>2.017522e+09</td>\n      <td>8.475542e+06</td>\n      <td>19.069430</td>\n      <td>991.480992</td>\n      <td>0.275671</td>\n      <td>0.163894</td>\n      <td>1.759776</td>\n      <td>1.257262</td>\n      <td>0.033379</td>\n      <td>0.063624</td>\n      <td>...</td>\n      <td>0.41920</td>\n      <td>0.521343</td>\n      <td>0.004761</td>\n      <td>0.004833</td>\n      <td>0.811021</td>\n      <td>-0.009225</td>\n      <td>843.060870</td>\n      <td>65.766881</td>\n      <td>82.653240</td>\n      <td>22.531418</td>\n    </tr>\n    <tr>\n      <th>std</th>\n      <td>5.000178e+05</td>\n      <td>2.856850e+03</td>\n      <td>13.963456</td>\n      <td>282.648528</td>\n      <td>0.549999</td>\n      <td>0.421451</td>\n      <td>1.558404</td>\n      <td>1.428104</td>\n      <td>0.185954</td>\n      <td>0.263567</td>\n      <td>...</td>\n      <td>0.69901</td>\n      <td>0.803843</td>\n      <td>0.069576</td>\n      <td>0.069498</td>\n      <td>1.095014</td>\n      <td>1.169114</td>\n      <td>233.480569</td>\n      <td>81.416277</td>\n      <td>99.864139</td>\n      <td>9.940990</td>\n    </tr>\n    <tr>\n      <th>min</th>\n      <td>2.017020e+09</td>\n      <td>8.448208e+06</td>\n      <td>1.000000</td>\n      <td>9.000000</td>\n      <td>0.000000</td>\n      <td>0.000000</td>\n      <td>0.000000</td>\n      <td>0.000000</td>\n      <td>0.000000</td>\n      <td>0.000000</td>\n      <td>...</td>\n      <td>0.00000</td>\n      <td>0.000000</td>\n      <td>0.000000</td>\n      <td>0.000000</td>\n      <td>0.000000</td>\n      <td>-6.000000</td>\n      <td>9.000000</td>\n      <td>0.000000</td>\n      <td>0.000000</td>\n      <td>1.000000</td>\n    </tr>\n    <tr>\n      <th>25%</th>\n      <td>2.017021e+09</td>\n      <td>8.474150e+06</td>\n      <td>8.000000</td>\n      <td>799.000000</td>\n      <td>0.000000</td>\n      <td>0.000000</td>\n      <td>1.000000</td>\n      <td>0.000000</td>\n      <td>0.000000</td>\n      <td>0.000000</td>\n      <td>...</td>\n      <td>0.00000</td>\n      <td>0.000000</td>\n      <td>0.000000</td>\n      <td>0.000000</td>\n      <td>0.000000</td>\n      <td>-1.000000</td>\n      <td>685.000000</td>\n      <td>0.000000</td>\n      <td>0.000000</td>\n      <td>15.000000</td>\n    </tr>\n    <tr>\n      <th>50%</th>\n      <td>2.018020e+09</td>\n      <td>8.476207e+06</td>\n      <td>17.000000</td>\n      <td>991.000000</td>\n      <td>0.000000</td>\n      <td>0.000000</td>\n      <td>1.000000</td>\n      <td>1.000000</td>\n      <td>0.000000</td>\n      <td>0.000000</td>\n      <td>...</td>\n      <td>0.00000</td>\n      <td>0.000000</td>\n      <td>0.000000</td>\n      <td>0.000000</td>\n      <td>0.000000</td>\n      <td>0.000000</td>\n      <td>838.000000</td>\n      <td>35.000000</td>\n      <td>46.000000</td>\n      <td>23.000000</td>\n    </tr>\n    <tr>\n      <th>75%</th>\n      <td>2.018021e+09</td>\n      <td>8.477492e+06</td>\n      <td>25.000000</td>\n      <td>1182.500000</td>\n      <td>0.000000</td>\n      <td>0.000000</td>\n      <td>3.000000</td>\n      <td>2.000000</td>\n      <td>0.000000</td>\n      <td>0.000000</td>\n      <td>...</td>\n      <td>1.00000</td>\n      <td>1.000000</td>\n      <td>0.000000</td>\n      <td>0.000000</td>\n      <td>1.000000</td>\n      <td>1.000000</td>\n      <td>998.000000</td>\n      <td>111.000000</td>\n      <td>141.000000</td>\n      <td>31.000000</td>\n    </tr>\n    <tr>\n      <th>max</th>\n      <td>2.018030e+09</td>\n      <td>8.481486e+06</td>\n      <td>54.000000</td>\n      <td>2698.000000</td>\n      <td>5.000000</td>\n      <td>5.000000</td>\n      <td>13.000000</td>\n      <td>15.000000</td>\n      <td>3.000000</td>\n      <td>4.000000</td>\n      <td>...</td>\n      <td>8.00000</td>\n      <td>8.000000</td>\n      <td>2.000000</td>\n      <td>2.000000</td>\n      <td>11.000000</td>\n      <td>6.000000</td>\n      <td>2234.000000</td>\n      <td>723.000000</td>\n      <td>714.000000</td>\n      <td>38.000000</td>\n    </tr>\n  </tbody>\n</table>\n<p>8 rows × 23 columns</p>\n</div>"
     },
     "metadata": {},
     "execution_count": 7
    }
   ],
   "source": [
    "skater_stats.describe()"
   ]
  },
  {
   "source": [
    "### Simple Metrics \n",
    "- From this dataset, which has been made more complete, simple but useful metrics can be created to perform analyses at both player and team-level\n",
    "- Additionally, we can dig deeper to the individual events that make up these aggregates by joining (merging) on the 'game_id' column in the previously explored event-driven shot data, which presents some interesting opportunities moving forward\n"
   ],
   "cell_type": "markdown",
   "metadata": {}
  },
  {
   "cell_type": "code",
   "execution_count": 8,
   "metadata": {},
   "outputs": [
    {
     "output_type": "execute_result",
     "data": {
      "text/plain": [
       "                                                 timeOnIce  assists  goals  \\\n",
       "player_id firstName lastName    primaryPosition                              \n",
       "8470613   Brent     Burns       D                   297316      137     36   \n",
       "8474590   John      Carlson     D                   290171      130     33   \n",
       "8474563   Drew      Doughty     D                   267963       87     18   \n",
       "8475200   Dmitry    Orlov       D                   264910       57     15   \n",
       "8474565   Alex      Pietrangelo D                   263184       83     31   \n",
       "\n",
       "                                                 shots  hits  powerPlayGoals  \\\n",
       "player_id firstName lastName    primaryPosition                                \n",
       "8470613   Brent     Burns       D                  721   240              14   \n",
       "8474590   John      Carlson     D                  525   151              11   \n",
       "8474563   Drew      Doughty     D                  365   301              10   \n",
       "8475200   Dmitry    Orlov       D                  284   320               0   \n",
       "8474565   Alex      Pietrangelo D                  461   134               6   \n",
       "\n",
       "                                                 powerPlayAssists  \\\n",
       "player_id firstName lastName    primaryPosition                     \n",
       "8470613   Brent     Burns       D                              49   \n",
       "8474590   John      Carlson     D                              70   \n",
       "8474563   Drew      Doughty     D                              34   \n",
       "8475200   Dmitry    Orlov       D                               6   \n",
       "8474565   Alex      Pietrangelo D                              26   \n",
       "\n",
       "                                                 penaltyMinutes  faceOffWins  \\\n",
       "player_id firstName lastName    primaryPosition                                \n",
       "8470613   Brent     Burns       D                            92            0   \n",
       "8474590   John      Carlson     D                            80            0   \n",
       "8474563   Drew      Doughty     D                            98            0   \n",
       "8475200   Dmitry    Orlov       D                            63            0   \n",
       "8474565   Alex      Pietrangelo D                            56            0   \n",
       "\n",
       "                                                 faceoffTaken  takeaways  \\\n",
       "player_id firstName lastName    primaryPosition                            \n",
       "8470613   Brent     Burns       D                           1        178   \n",
       "8474590   John      Carlson     D                           1        145   \n",
       "8474563   Drew      Doughty     D                           1         40   \n",
       "8475200   Dmitry    Orlov       D                           0        128   \n",
       "8474565   Alex      Pietrangelo D                           1        130   \n",
       "\n",
       "                                                 giveaways  shortHandedGoals  \\\n",
       "player_id firstName lastName    primaryPosition                                \n",
       "8470613   Brent     Burns       D                      274                 1   \n",
       "8474590   John      Carlson     D                      220                 0   \n",
       "8474563   Drew      Doughty     D                      188                 1   \n",
       "8475200   Dmitry    Orlov       D                      157                 0   \n",
       "8474565   Alex      Pietrangelo D                      111                 0   \n",
       "\n",
       "                                                 shortHandedAssists  blocked  \\\n",
       "player_id firstName lastName    primaryPosition                                \n",
       "8470613   Brent     Burns       D                                 5      306   \n",
       "8474590   John      Carlson     D                                 0      367   \n",
       "8474563   Drew      Doughty     D                                 1      258   \n",
       "8475200   Dmitry    Orlov       D                                 0      266   \n",
       "8474565   Alex      Pietrangelo D                                 2      351   \n",
       "\n",
       "                                                 plusMinus  evenTimeOnIce  \\\n",
       "player_id firstName lastName    primaryPosition                             \n",
       "8470613   Brent     Burns       D                       -5         234632   \n",
       "8474590   John      Carlson     D                       32         216126   \n",
       "8474563   Drew      Doughty     D                      -11         211133   \n",
       "8475200   Dmitry    Orlov       D                       16         234330   \n",
       "8474565   Alex      Pietrangelo D                       15         210549   \n",
       "\n",
       "                                                 shortHandedTimeOnIce  \\\n",
       "player_id firstName lastName    primaryPosition                         \n",
       "8470613   Brent     Burns       D                               21616   \n",
       "8474590   John      Carlson     D                               28794   \n",
       "8474563   Drew      Doughty     D                               26194   \n",
       "8475200   Dmitry    Orlov       D                               18907   \n",
       "8474565   Alex      Pietrangelo D                               22403   \n",
       "\n",
       "                                                 powerPlayTimeOnIce  \n",
       "player_id firstName lastName    primaryPosition                      \n",
       "8470613   Brent     Burns       D                             41068  \n",
       "8474590   John      Carlson     D                             45251  \n",
       "8474563   Drew      Doughty     D                             30636  \n",
       "8475200   Dmitry    Orlov       D                             11673  \n",
       "8474565   Alex      Pietrangelo D                             30232  "
      ],
      "text/html": "<div>\n<style scoped>\n    .dataframe tbody tr th:only-of-type {\n        vertical-align: middle;\n    }\n\n    .dataframe tbody tr th {\n        vertical-align: top;\n    }\n\n    .dataframe thead th {\n        text-align: right;\n    }\n</style>\n<table border=\"1\" class=\"dataframe\">\n  <thead>\n    <tr style=\"text-align: right;\">\n      <th></th>\n      <th></th>\n      <th></th>\n      <th></th>\n      <th>timeOnIce</th>\n      <th>assists</th>\n      <th>goals</th>\n      <th>shots</th>\n      <th>hits</th>\n      <th>powerPlayGoals</th>\n      <th>powerPlayAssists</th>\n      <th>penaltyMinutes</th>\n      <th>faceOffWins</th>\n      <th>faceoffTaken</th>\n      <th>takeaways</th>\n      <th>giveaways</th>\n      <th>shortHandedGoals</th>\n      <th>shortHandedAssists</th>\n      <th>blocked</th>\n      <th>plusMinus</th>\n      <th>evenTimeOnIce</th>\n      <th>shortHandedTimeOnIce</th>\n      <th>powerPlayTimeOnIce</th>\n    </tr>\n    <tr>\n      <th>player_id</th>\n      <th>firstName</th>\n      <th>lastName</th>\n      <th>primaryPosition</th>\n      <th></th>\n      <th></th>\n      <th></th>\n      <th></th>\n      <th></th>\n      <th></th>\n      <th></th>\n      <th></th>\n      <th></th>\n      <th></th>\n      <th></th>\n      <th></th>\n      <th></th>\n      <th></th>\n      <th></th>\n      <th></th>\n      <th></th>\n      <th></th>\n      <th></th>\n    </tr>\n  </thead>\n  <tbody>\n    <tr>\n      <th>8470613</th>\n      <th>Brent</th>\n      <th>Burns</th>\n      <th>D</th>\n      <td>297316</td>\n      <td>137</td>\n      <td>36</td>\n      <td>721</td>\n      <td>240</td>\n      <td>14</td>\n      <td>49</td>\n      <td>92</td>\n      <td>0</td>\n      <td>1</td>\n      <td>178</td>\n      <td>274</td>\n      <td>1</td>\n      <td>5</td>\n      <td>306</td>\n      <td>-5</td>\n      <td>234632</td>\n      <td>21616</td>\n      <td>41068</td>\n    </tr>\n    <tr>\n      <th>8474590</th>\n      <th>John</th>\n      <th>Carlson</th>\n      <th>D</th>\n      <td>290171</td>\n      <td>130</td>\n      <td>33</td>\n      <td>525</td>\n      <td>151</td>\n      <td>11</td>\n      <td>70</td>\n      <td>80</td>\n      <td>0</td>\n      <td>1</td>\n      <td>145</td>\n      <td>220</td>\n      <td>0</td>\n      <td>0</td>\n      <td>367</td>\n      <td>32</td>\n      <td>216126</td>\n      <td>28794</td>\n      <td>45251</td>\n    </tr>\n    <tr>\n      <th>8474563</th>\n      <th>Drew</th>\n      <th>Doughty</th>\n      <th>D</th>\n      <td>267963</td>\n      <td>87</td>\n      <td>18</td>\n      <td>365</td>\n      <td>301</td>\n      <td>10</td>\n      <td>34</td>\n      <td>98</td>\n      <td>0</td>\n      <td>1</td>\n      <td>40</td>\n      <td>188</td>\n      <td>1</td>\n      <td>1</td>\n      <td>258</td>\n      <td>-11</td>\n      <td>211133</td>\n      <td>26194</td>\n      <td>30636</td>\n    </tr>\n    <tr>\n      <th>8475200</th>\n      <th>Dmitry</th>\n      <th>Orlov</th>\n      <th>D</th>\n      <td>264910</td>\n      <td>57</td>\n      <td>15</td>\n      <td>284</td>\n      <td>320</td>\n      <td>0</td>\n      <td>6</td>\n      <td>63</td>\n      <td>0</td>\n      <td>0</td>\n      <td>128</td>\n      <td>157</td>\n      <td>0</td>\n      <td>0</td>\n      <td>266</td>\n      <td>16</td>\n      <td>234330</td>\n      <td>18907</td>\n      <td>11673</td>\n    </tr>\n    <tr>\n      <th>8474565</th>\n      <th>Alex</th>\n      <th>Pietrangelo</th>\n      <th>D</th>\n      <td>263184</td>\n      <td>83</td>\n      <td>31</td>\n      <td>461</td>\n      <td>134</td>\n      <td>6</td>\n      <td>26</td>\n      <td>56</td>\n      <td>0</td>\n      <td>1</td>\n      <td>130</td>\n      <td>111</td>\n      <td>0</td>\n      <td>2</td>\n      <td>351</td>\n      <td>15</td>\n      <td>210549</td>\n      <td>22403</td>\n      <td>30232</td>\n    </tr>\n  </tbody>\n</table>\n</div>"
     },
     "metadata": {},
     "execution_count": 8
    }
   ],
   "source": [
    "# Bearing in mind that we could drill-down to the individual game events as previously discussed, we can also aggregate to a higher level, and get totals grouping by players for the entire dataset\n",
    "player_totals=skater_stats[['player_id','firstName','lastName','primaryPosition','timeOnIce', 'assists', 'goals','shots', 'hits', 'powerPlayGoals', 'powerPlayAssists', 'penaltyMinutes',\n",
    "       'faceOffWins', 'faceoffTaken', 'takeaways', 'giveaways',\n",
    "       'shortHandedGoals', 'shortHandedAssists', 'blocked', 'plusMinus',\n",
    "       'evenTimeOnIce', 'shortHandedTimeOnIce', 'powerPlayTimeOnIce']]\n",
    "player_totals = player_totals.groupby(['player_id','firstName','lastName','primaryPosition']).agg('sum')\n",
    "player_totals = player_totals.sort_values(by='timeOnIce',ascending=False)\n",
    "player_totals.head()"
   ]
  },
  {
   "cell_type": "code",
   "execution_count": 9,
   "metadata": {},
   "outputs": [
    {
     "output_type": "execute_result",
     "data": {
      "text/plain": [
       "                                                 takeaways  giveaways  \\\n",
       "player_id firstName lastName    primaryPosition                         \n",
       "8476955   Taylor    Leier       LW                      11          1   \n",
       "8477366   Luke      Johnson     C                        6          1   \n",
       "8478541   Markus    Hannikainen LW                      26          5   \n",
       "8479580   Dylan     Gambrell    C                        5          1   \n",
       "8479315   Joey      Anderson    RW                      12          3   \n",
       "8478365   Danick    Martel      LW                       4          1   \n",
       "8477591   Josh      Jooris      RW                      12          3   \n",
       "8478462   Nicolas   Roy         C                        4          1   \n",
       "8478106   Dylan     Sikura      RW                      26          7   \n",
       "8476370   Blake     Pietila     LW                      11          3   \n",
       "8474062   Riley     Nash        C                      103         30   \n",
       "8480144   David     Kampf       C                       45         14   \n",
       "8478519   Anthony   Cirelli     C                       64         20   \n",
       "8476440   Markus    Granlund    C                       54         17   \n",
       "8479657   Alexandre Fortin      LW                       9          3   \n",
       "8475224   Jordan    Szwarz      RW                       3          1   \n",
       "8478831   Kevin     Stenlund    C                        3          1   \n",
       "8478063   Shane     Gersich     LW                       3          1   \n",
       "8475260   Corban    Knight      C                        6          2   \n",
       "8474025   Eric      Tangradi    LW                       3          1   \n",
       "8470626   Loui      Eriksson    LW                      54         19   \n",
       "8477931   Tomas     Nosek       LW                      82         30   \n",
       "8479370   Tyson     Jost        C                       61         23   \n",
       "8477478   William   Carrier     LW                      53         20   \n",
       "8476356   Tobias    Rieder      RW                      54         21   \n",
       "8476897   Oskar     Sundqvist   C                       78         31   \n",
       "8479365   Trent     Frederic    C                        5          2   \n",
       "8467407   Brian     Gionta      RW                       5          2   \n",
       "8479970   Joseph    Gambardella C                        5          2   \n",
       "8478856   Conor     Garland     RW                      25         10   \n",
       "\n",
       "                                                 t_g_ratio  \n",
       "player_id firstName lastName    primaryPosition             \n",
       "8476955   Taylor    Leier       LW               11.000000  \n",
       "8477366   Luke      Johnson     C                 6.000000  \n",
       "8478541   Markus    Hannikainen LW                5.200000  \n",
       "8479580   Dylan     Gambrell    C                 5.000000  \n",
       "8479315   Joey      Anderson    RW                4.000000  \n",
       "8478365   Danick    Martel      LW                4.000000  \n",
       "8477591   Josh      Jooris      RW                4.000000  \n",
       "8478462   Nicolas   Roy         C                 4.000000  \n",
       "8478106   Dylan     Sikura      RW                3.714286  \n",
       "8476370   Blake     Pietila     LW                3.666667  \n",
       "8474062   Riley     Nash        C                 3.433333  \n",
       "8480144   David     Kampf       C                 3.214286  \n",
       "8478519   Anthony   Cirelli     C                 3.200000  \n",
       "8476440   Markus    Granlund    C                 3.176471  \n",
       "8479657   Alexandre Fortin      LW                3.000000  \n",
       "8475224   Jordan    Szwarz      RW                3.000000  \n",
       "8478831   Kevin     Stenlund    C                 3.000000  \n",
       "8478063   Shane     Gersich     LW                3.000000  \n",
       "8475260   Corban    Knight      C                 3.000000  \n",
       "8474025   Eric      Tangradi    LW                3.000000  \n",
       "8470626   Loui      Eriksson    LW                2.842105  \n",
       "8477931   Tomas     Nosek       LW                2.733333  \n",
       "8479370   Tyson     Jost        C                 2.652174  \n",
       "8477478   William   Carrier     LW                2.650000  \n",
       "8476356   Tobias    Rieder      RW                2.571429  \n",
       "8476897   Oskar     Sundqvist   C                 2.516129  \n",
       "8479365   Trent     Frederic    C                 2.500000  \n",
       "8467407   Brian     Gionta      RW                2.500000  \n",
       "8479970   Joseph    Gambardella C                 2.500000  \n",
       "8478856   Conor     Garland     RW                2.500000  "
      ],
      "text/html": "<div>\n<style scoped>\n    .dataframe tbody tr th:only-of-type {\n        vertical-align: middle;\n    }\n\n    .dataframe tbody tr th {\n        vertical-align: top;\n    }\n\n    .dataframe thead th {\n        text-align: right;\n    }\n</style>\n<table border=\"1\" class=\"dataframe\">\n  <thead>\n    <tr style=\"text-align: right;\">\n      <th></th>\n      <th></th>\n      <th></th>\n      <th></th>\n      <th>takeaways</th>\n      <th>giveaways</th>\n      <th>t_g_ratio</th>\n    </tr>\n    <tr>\n      <th>player_id</th>\n      <th>firstName</th>\n      <th>lastName</th>\n      <th>primaryPosition</th>\n      <th></th>\n      <th></th>\n      <th></th>\n    </tr>\n  </thead>\n  <tbody>\n    <tr>\n      <th>8476955</th>\n      <th>Taylor</th>\n      <th>Leier</th>\n      <th>LW</th>\n      <td>11</td>\n      <td>1</td>\n      <td>11.000000</td>\n    </tr>\n    <tr>\n      <th>8477366</th>\n      <th>Luke</th>\n      <th>Johnson</th>\n      <th>C</th>\n      <td>6</td>\n      <td>1</td>\n      <td>6.000000</td>\n    </tr>\n    <tr>\n      <th>8478541</th>\n      <th>Markus</th>\n      <th>Hannikainen</th>\n      <th>LW</th>\n      <td>26</td>\n      <td>5</td>\n      <td>5.200000</td>\n    </tr>\n    <tr>\n      <th>8479580</th>\n      <th>Dylan</th>\n      <th>Gambrell</th>\n      <th>C</th>\n      <td>5</td>\n      <td>1</td>\n      <td>5.000000</td>\n    </tr>\n    <tr>\n      <th>8479315</th>\n      <th>Joey</th>\n      <th>Anderson</th>\n      <th>RW</th>\n      <td>12</td>\n      <td>3</td>\n      <td>4.000000</td>\n    </tr>\n    <tr>\n      <th>8478365</th>\n      <th>Danick</th>\n      <th>Martel</th>\n      <th>LW</th>\n      <td>4</td>\n      <td>1</td>\n      <td>4.000000</td>\n    </tr>\n    <tr>\n      <th>8477591</th>\n      <th>Josh</th>\n      <th>Jooris</th>\n      <th>RW</th>\n      <td>12</td>\n      <td>3</td>\n      <td>4.000000</td>\n    </tr>\n    <tr>\n      <th>8478462</th>\n      <th>Nicolas</th>\n      <th>Roy</th>\n      <th>C</th>\n      <td>4</td>\n      <td>1</td>\n      <td>4.000000</td>\n    </tr>\n    <tr>\n      <th>8478106</th>\n      <th>Dylan</th>\n      <th>Sikura</th>\n      <th>RW</th>\n      <td>26</td>\n      <td>7</td>\n      <td>3.714286</td>\n    </tr>\n    <tr>\n      <th>8476370</th>\n      <th>Blake</th>\n      <th>Pietila</th>\n      <th>LW</th>\n      <td>11</td>\n      <td>3</td>\n      <td>3.666667</td>\n    </tr>\n    <tr>\n      <th>8474062</th>\n      <th>Riley</th>\n      <th>Nash</th>\n      <th>C</th>\n      <td>103</td>\n      <td>30</td>\n      <td>3.433333</td>\n    </tr>\n    <tr>\n      <th>8480144</th>\n      <th>David</th>\n      <th>Kampf</th>\n      <th>C</th>\n      <td>45</td>\n      <td>14</td>\n      <td>3.214286</td>\n    </tr>\n    <tr>\n      <th>8478519</th>\n      <th>Anthony</th>\n      <th>Cirelli</th>\n      <th>C</th>\n      <td>64</td>\n      <td>20</td>\n      <td>3.200000</td>\n    </tr>\n    <tr>\n      <th>8476440</th>\n      <th>Markus</th>\n      <th>Granlund</th>\n      <th>C</th>\n      <td>54</td>\n      <td>17</td>\n      <td>3.176471</td>\n    </tr>\n    <tr>\n      <th>8479657</th>\n      <th>Alexandre</th>\n      <th>Fortin</th>\n      <th>LW</th>\n      <td>9</td>\n      <td>3</td>\n      <td>3.000000</td>\n    </tr>\n    <tr>\n      <th>8475224</th>\n      <th>Jordan</th>\n      <th>Szwarz</th>\n      <th>RW</th>\n      <td>3</td>\n      <td>1</td>\n      <td>3.000000</td>\n    </tr>\n    <tr>\n      <th>8478831</th>\n      <th>Kevin</th>\n      <th>Stenlund</th>\n      <th>C</th>\n      <td>3</td>\n      <td>1</td>\n      <td>3.000000</td>\n    </tr>\n    <tr>\n      <th>8478063</th>\n      <th>Shane</th>\n      <th>Gersich</th>\n      <th>LW</th>\n      <td>3</td>\n      <td>1</td>\n      <td>3.000000</td>\n    </tr>\n    <tr>\n      <th>8475260</th>\n      <th>Corban</th>\n      <th>Knight</th>\n      <th>C</th>\n      <td>6</td>\n      <td>2</td>\n      <td>3.000000</td>\n    </tr>\n    <tr>\n      <th>8474025</th>\n      <th>Eric</th>\n      <th>Tangradi</th>\n      <th>LW</th>\n      <td>3</td>\n      <td>1</td>\n      <td>3.000000</td>\n    </tr>\n    <tr>\n      <th>8470626</th>\n      <th>Loui</th>\n      <th>Eriksson</th>\n      <th>LW</th>\n      <td>54</td>\n      <td>19</td>\n      <td>2.842105</td>\n    </tr>\n    <tr>\n      <th>8477931</th>\n      <th>Tomas</th>\n      <th>Nosek</th>\n      <th>LW</th>\n      <td>82</td>\n      <td>30</td>\n      <td>2.733333</td>\n    </tr>\n    <tr>\n      <th>8479370</th>\n      <th>Tyson</th>\n      <th>Jost</th>\n      <th>C</th>\n      <td>61</td>\n      <td>23</td>\n      <td>2.652174</td>\n    </tr>\n    <tr>\n      <th>8477478</th>\n      <th>William</th>\n      <th>Carrier</th>\n      <th>LW</th>\n      <td>53</td>\n      <td>20</td>\n      <td>2.650000</td>\n    </tr>\n    <tr>\n      <th>8476356</th>\n      <th>Tobias</th>\n      <th>Rieder</th>\n      <th>RW</th>\n      <td>54</td>\n      <td>21</td>\n      <td>2.571429</td>\n    </tr>\n    <tr>\n      <th>8476897</th>\n      <th>Oskar</th>\n      <th>Sundqvist</th>\n      <th>C</th>\n      <td>78</td>\n      <td>31</td>\n      <td>2.516129</td>\n    </tr>\n    <tr>\n      <th>8479365</th>\n      <th>Trent</th>\n      <th>Frederic</th>\n      <th>C</th>\n      <td>5</td>\n      <td>2</td>\n      <td>2.500000</td>\n    </tr>\n    <tr>\n      <th>8467407</th>\n      <th>Brian</th>\n      <th>Gionta</th>\n      <th>RW</th>\n      <td>5</td>\n      <td>2</td>\n      <td>2.500000</td>\n    </tr>\n    <tr>\n      <th>8479970</th>\n      <th>Joseph</th>\n      <th>Gambardella</th>\n      <th>C</th>\n      <td>5</td>\n      <td>2</td>\n      <td>2.500000</td>\n    </tr>\n    <tr>\n      <th>8478856</th>\n      <th>Conor</th>\n      <th>Garland</th>\n      <th>RW</th>\n      <td>25</td>\n      <td>10</td>\n      <td>2.500000</td>\n    </tr>\n  </tbody>\n</table>\n</div>"
     },
     "metadata": {},
     "execution_count": 9
    }
   ],
   "source": [
    "# For a simple player-level metric, let's find the players with the best ratio of takeaways to giveaways, which is particularly useful when looking at concepts such as game flow\n",
    "takeaway_leaders = player_totals[['takeaways','giveaways']]\n",
    "takeaway_leaders['t_g_ratio']=takeaway_leaders['takeaways']/takeaway_leaders['giveaways']\n",
    "takeaway_leaders = takeaway_leaders.replace(np.inf,np.nan).dropna()\n",
    "takeaway_leaders = takeaway_leaders.sort_values(by='t_g_ratio',ascending=False)\n",
    "takeaway_leaders.head(30)"
   ]
  },
  {
   "cell_type": "code",
   "execution_count": 10,
   "metadata": {},
   "outputs": [
    {
     "output_type": "execute_result",
     "data": {
      "text/plain": [
       "<AxesSubplot:title={'center':'Powerplay Goals by Team per Game (over the 2017-2018 and 2018-2019 Seasons'}, xlabel='abbreviation'>"
      ]
     },
     "metadata": {},
     "execution_count": 10
    },
    {
     "output_type": "display_data",
     "data": {
      "text/plain": "<Figure size 432x288 with 1 Axes>",
      "image/svg+xml": "<?xml version=\"1.0\" encoding=\"utf-8\" standalone=\"no\"?>\r\n<!DOCTYPE svg PUBLIC \"-//W3C//DTD SVG 1.1//EN\"\r\n  \"http://www.w3.org/Graphics/SVG/1.1/DTD/svg11.dtd\">\r\n<!-- Created with matplotlib (https://matplotlib.org/) -->\r\n<svg height=\"291.301875pt\" version=\"1.1\" viewBox=\"0 0 508.04625 291.301875\" width=\"508.04625pt\" xmlns=\"http://www.w3.org/2000/svg\" xmlns:xlink=\"http://www.w3.org/1999/xlink\">\r\n <metadata>\r\n  <rdf:RDF xmlns:cc=\"http://creativecommons.org/ns#\" xmlns:dc=\"http://purl.org/dc/elements/1.1/\" xmlns:rdf=\"http://www.w3.org/1999/02/22-rdf-syntax-ns#\">\r\n   <cc:Work>\r\n    <dc:type rdf:resource=\"http://purl.org/dc/dcmitype/StillImage\"/>\r\n    <dc:date>2020-10-21T16:08:56.118072</dc:date>\r\n    <dc:format>image/svg+xml</dc:format>\r\n    <dc:creator>\r\n     <cc:Agent>\r\n      <dc:title>Matplotlib v3.3.2, https://matplotlib.org/</dc:title>\r\n     </cc:Agent>\r\n    </dc:creator>\r\n   </cc:Work>\r\n  </rdf:RDF>\r\n </metadata>\r\n <defs>\r\n  <style type=\"text/css\">*{stroke-linecap:butt;stroke-linejoin:round;}</style>\r\n </defs>\r\n <g id=\"figure_1\">\r\n  <g id=\"patch_1\">\r\n   <path d=\"M 0 291.301875 \r\nL 508.04625 291.301875 \r\nL 508.04625 0 \r\nL 0 0 \r\nz\r\n\" style=\"fill:none;\"/>\r\n  </g>\r\n  <g id=\"axes_1\">\r\n   <g id=\"patch_2\">\r\n    <path d=\"M 86.623125 239.758125 \r\nL 421.423125 239.758125 \r\nL 421.423125 22.318125 \r\nL 86.623125 22.318125 \r\nz\r\n\" style=\"fill:#ffffff;\"/>\r\n   </g>\r\n   <g id=\"patch_3\">\r\n    <path clip-path=\"url(#paa590755d4)\" d=\"M 103.363125 239.758125 \r\nL 136.843125 239.758125 \r\nL 136.843125 32.672411 \r\nL 103.363125 32.672411 \r\nz\r\n\" style=\"fill:#1f77b4;\"/>\r\n   </g>\r\n   <g id=\"patch_4\">\r\n    <path clip-path=\"url(#paa590755d4)\" d=\"M 170.323125 239.758125 \r\nL 203.803125 239.758125 \r\nL 203.803125 42.103384 \r\nL 170.323125 42.103384 \r\nz\r\n\" style=\"fill:#1f77b4;\"/>\r\n   </g>\r\n   <g id=\"patch_5\">\r\n    <path clip-path=\"url(#paa590755d4)\" d=\"M 237.283125 239.758125 \r\nL 270.763125 239.758125 \r\nL 270.763125 55.765794 \r\nL 237.283125 55.765794 \r\nz\r\n\" style=\"fill:#1f77b4;\"/>\r\n   </g>\r\n   <g id=\"patch_6\">\r\n    <path clip-path=\"url(#paa590755d4)\" d=\"M 304.243125 239.758125 \r\nL 337.723125 239.758125 \r\nL 337.723125 56.074097 \r\nL 304.243125 56.074097 \r\nz\r\n\" style=\"fill:#1f77b4;\"/>\r\n   </g>\r\n   <g id=\"patch_7\">\r\n    <path clip-path=\"url(#paa590755d4)\" d=\"M 371.203125 239.758125 \r\nL 404.683125 239.758125 \r\nL 404.683125 56.744476 \r\nL 371.203125 56.744476 \r\nz\r\n\" style=\"fill:#1f77b4;\"/>\r\n   </g>\r\n   <g id=\"matplotlib.axis_1\">\r\n    <g id=\"xtick_1\">\r\n     <g id=\"line2d_1\">\r\n      <defs>\r\n       <path d=\"M 0 0 \r\nL 0 3.5 \r\n\" id=\"meef39ca3fb\" style=\"stroke:#000000;stroke-width:0.8;\"/>\r\n      </defs>\r\n      <g>\r\n       <use style=\"stroke:#000000;stroke-width:0.8;\" x=\"120.103125\" xlink:href=\"#meef39ca3fb\" y=\"239.758125\"/>\r\n      </g>\r\n     </g>\r\n     <g id=\"text_1\">\r\n      <!-- TBL -->\r\n      <g transform=\"translate(122.8625 265.29875)rotate(-90)scale(0.1 -0.1)\">\r\n       <defs>\r\n        <path d=\"M -0.296875 72.90625 \r\nL 61.375 72.90625 \r\nL 61.375 64.59375 \r\nL 35.5 64.59375 \r\nL 35.5 0 \r\nL 25.59375 0 \r\nL 25.59375 64.59375 \r\nL -0.296875 64.59375 \r\nz\r\n\" id=\"DejaVuSans-84\"/>\r\n        <path d=\"M 19.671875 34.8125 \r\nL 19.671875 8.109375 \r\nL 35.5 8.109375 \r\nQ 43.453125 8.109375 47.28125 11.40625 \r\nQ 51.125 14.703125 51.125 21.484375 \r\nQ 51.125 28.328125 47.28125 31.5625 \r\nQ 43.453125 34.8125 35.5 34.8125 \r\nz\r\nM 19.671875 64.796875 \r\nL 19.671875 42.828125 \r\nL 34.28125 42.828125 \r\nQ 41.5 42.828125 45.03125 45.53125 \r\nQ 48.578125 48.25 48.578125 53.8125 \r\nQ 48.578125 59.328125 45.03125 62.0625 \r\nQ 41.5 64.796875 34.28125 64.796875 \r\nz\r\nM 9.8125 72.90625 \r\nL 35.015625 72.90625 \r\nQ 46.296875 72.90625 52.390625 68.21875 \r\nQ 58.5 63.53125 58.5 54.890625 \r\nQ 58.5 48.1875 55.375 44.234375 \r\nQ 52.25 40.28125 46.1875 39.3125 \r\nQ 53.46875 37.75 57.5 32.78125 \r\nQ 61.53125 27.828125 61.53125 20.40625 \r\nQ 61.53125 10.640625 54.890625 5.3125 \r\nQ 48.25 0 35.984375 0 \r\nL 9.8125 0 \r\nz\r\n\" id=\"DejaVuSans-66\"/>\r\n        <path d=\"M 9.8125 72.90625 \r\nL 19.671875 72.90625 \r\nL 19.671875 8.296875 \r\nL 55.171875 8.296875 \r\nL 55.171875 0 \r\nL 9.8125 0 \r\nz\r\n\" id=\"DejaVuSans-76\"/>\r\n       </defs>\r\n       <use xlink:href=\"#DejaVuSans-84\"/>\r\n       <use x=\"61.083984\" xlink:href=\"#DejaVuSans-66\"/>\r\n       <use x=\"129.6875\" xlink:href=\"#DejaVuSans-76\"/>\r\n      </g>\r\n     </g>\r\n    </g>\r\n    <g id=\"xtick_2\">\r\n     <g id=\"line2d_2\">\r\n      <g>\r\n       <use style=\"stroke:#000000;stroke-width:0.8;\" x=\"187.063125\" xlink:href=\"#meef39ca3fb\" y=\"239.758125\"/>\r\n      </g>\r\n     </g>\r\n     <g id=\"text_2\">\r\n      <!-- BOS -->\r\n      <g transform=\"translate(189.8225 267.664375)rotate(-90)scale(0.1 -0.1)\">\r\n       <defs>\r\n        <path d=\"M 39.40625 66.21875 \r\nQ 28.65625 66.21875 22.328125 58.203125 \r\nQ 16.015625 50.203125 16.015625 36.375 \r\nQ 16.015625 22.609375 22.328125 14.59375 \r\nQ 28.65625 6.59375 39.40625 6.59375 \r\nQ 50.140625 6.59375 56.421875 14.59375 \r\nQ 62.703125 22.609375 62.703125 36.375 \r\nQ 62.703125 50.203125 56.421875 58.203125 \r\nQ 50.140625 66.21875 39.40625 66.21875 \r\nz\r\nM 39.40625 74.21875 \r\nQ 54.734375 74.21875 63.90625 63.9375 \r\nQ 73.09375 53.65625 73.09375 36.375 \r\nQ 73.09375 19.140625 63.90625 8.859375 \r\nQ 54.734375 -1.421875 39.40625 -1.421875 \r\nQ 24.03125 -1.421875 14.8125 8.828125 \r\nQ 5.609375 19.09375 5.609375 36.375 \r\nQ 5.609375 53.65625 14.8125 63.9375 \r\nQ 24.03125 74.21875 39.40625 74.21875 \r\nz\r\n\" id=\"DejaVuSans-79\"/>\r\n        <path d=\"M 53.515625 70.515625 \r\nL 53.515625 60.890625 \r\nQ 47.90625 63.578125 42.921875 64.890625 \r\nQ 37.9375 66.21875 33.296875 66.21875 \r\nQ 25.25 66.21875 20.875 63.09375 \r\nQ 16.5 59.96875 16.5 54.203125 \r\nQ 16.5 49.359375 19.40625 46.890625 \r\nQ 22.3125 44.4375 30.421875 42.921875 \r\nL 36.375 41.703125 \r\nQ 47.40625 39.59375 52.65625 34.296875 \r\nQ 57.90625 29 57.90625 20.125 \r\nQ 57.90625 9.515625 50.796875 4.046875 \r\nQ 43.703125 -1.421875 29.984375 -1.421875 \r\nQ 24.8125 -1.421875 18.96875 -0.25 \r\nQ 13.140625 0.921875 6.890625 3.21875 \r\nL 6.890625 13.375 \r\nQ 12.890625 10.015625 18.65625 8.296875 \r\nQ 24.421875 6.59375 29.984375 6.59375 \r\nQ 38.421875 6.59375 43.015625 9.90625 \r\nQ 47.609375 13.234375 47.609375 19.390625 \r\nQ 47.609375 24.75 44.3125 27.78125 \r\nQ 41.015625 30.8125 33.5 32.328125 \r\nL 27.484375 33.5 \r\nQ 16.453125 35.6875 11.515625 40.375 \r\nQ 6.59375 45.0625 6.59375 53.421875 \r\nQ 6.59375 63.09375 13.40625 68.65625 \r\nQ 20.21875 74.21875 32.171875 74.21875 \r\nQ 37.3125 74.21875 42.625 73.28125 \r\nQ 47.953125 72.359375 53.515625 70.515625 \r\nz\r\n\" id=\"DejaVuSans-83\"/>\r\n       </defs>\r\n       <use xlink:href=\"#DejaVuSans-66\"/>\r\n       <use x=\"66.853516\" xlink:href=\"#DejaVuSans-79\"/>\r\n       <use x=\"145.564453\" xlink:href=\"#DejaVuSans-83\"/>\r\n      </g>\r\n     </g>\r\n    </g>\r\n    <g id=\"xtick_3\">\r\n     <g id=\"line2d_3\">\r\n      <g>\r\n       <use style=\"stroke:#000000;stroke-width:0.8;\" x=\"254.023125\" xlink:href=\"#meef39ca3fb\" y=\"239.758125\"/>\r\n      </g>\r\n     </g>\r\n     <g id=\"text_3\">\r\n      <!-- WPG -->\r\n      <g transform=\"translate(256.7825 270.42375)rotate(-90)scale(0.1 -0.1)\">\r\n       <defs>\r\n        <path d=\"M 3.328125 72.90625 \r\nL 13.28125 72.90625 \r\nL 28.609375 11.28125 \r\nL 43.890625 72.90625 \r\nL 54.984375 72.90625 \r\nL 70.3125 11.28125 \r\nL 85.59375 72.90625 \r\nL 95.609375 72.90625 \r\nL 77.296875 0 \r\nL 64.890625 0 \r\nL 49.515625 63.28125 \r\nL 33.984375 0 \r\nL 21.578125 0 \r\nz\r\n\" id=\"DejaVuSans-87\"/>\r\n        <path d=\"M 19.671875 64.796875 \r\nL 19.671875 37.40625 \r\nL 32.078125 37.40625 \r\nQ 38.96875 37.40625 42.71875 40.96875 \r\nQ 46.484375 44.53125 46.484375 51.125 \r\nQ 46.484375 57.671875 42.71875 61.234375 \r\nQ 38.96875 64.796875 32.078125 64.796875 \r\nz\r\nM 9.8125 72.90625 \r\nL 32.078125 72.90625 \r\nQ 44.34375 72.90625 50.609375 67.359375 \r\nQ 56.890625 61.8125 56.890625 51.125 \r\nQ 56.890625 40.328125 50.609375 34.8125 \r\nQ 44.34375 29.296875 32.078125 29.296875 \r\nL 19.671875 29.296875 \r\nL 19.671875 0 \r\nL 9.8125 0 \r\nz\r\n\" id=\"DejaVuSans-80\"/>\r\n        <path d=\"M 59.515625 10.40625 \r\nL 59.515625 29.984375 \r\nL 43.40625 29.984375 \r\nL 43.40625 38.09375 \r\nL 69.28125 38.09375 \r\nL 69.28125 6.78125 \r\nQ 63.578125 2.734375 56.6875 0.65625 \r\nQ 49.8125 -1.421875 42 -1.421875 \r\nQ 24.90625 -1.421875 15.25 8.5625 \r\nQ 5.609375 18.5625 5.609375 36.375 \r\nQ 5.609375 54.25 15.25 64.234375 \r\nQ 24.90625 74.21875 42 74.21875 \r\nQ 49.125 74.21875 55.546875 72.453125 \r\nQ 61.96875 70.703125 67.390625 67.28125 \r\nL 67.390625 56.78125 \r\nQ 61.921875 61.421875 55.765625 63.765625 \r\nQ 49.609375 66.109375 42.828125 66.109375 \r\nQ 29.4375 66.109375 22.71875 58.640625 \r\nQ 16.015625 51.171875 16.015625 36.375 \r\nQ 16.015625 21.625 22.71875 14.15625 \r\nQ 29.4375 6.6875 42.828125 6.6875 \r\nQ 48.046875 6.6875 52.140625 7.59375 \r\nQ 56.25 8.5 59.515625 10.40625 \r\nz\r\n\" id=\"DejaVuSans-71\"/>\r\n       </defs>\r\n       <use xlink:href=\"#DejaVuSans-87\"/>\r\n       <use x=\"98.876953\" xlink:href=\"#DejaVuSans-80\"/>\r\n       <use x=\"159.179688\" xlink:href=\"#DejaVuSans-71\"/>\r\n      </g>\r\n     </g>\r\n    </g>\r\n    <g id=\"xtick_4\">\r\n     <g id=\"line2d_4\">\r\n      <g>\r\n       <use style=\"stroke:#000000;stroke-width:0.8;\" x=\"320.983125\" xlink:href=\"#meef39ca3fb\" y=\"239.758125\"/>\r\n      </g>\r\n     </g>\r\n     <g id=\"text_4\">\r\n      <!-- COL -->\r\n      <g transform=\"translate(323.7425 267.184687)rotate(-90)scale(0.1 -0.1)\">\r\n       <defs>\r\n        <path d=\"M 64.40625 67.28125 \r\nL 64.40625 56.890625 \r\nQ 59.421875 61.53125 53.78125 63.8125 \r\nQ 48.140625 66.109375 41.796875 66.109375 \r\nQ 29.296875 66.109375 22.65625 58.46875 \r\nQ 16.015625 50.828125 16.015625 36.375 \r\nQ 16.015625 21.96875 22.65625 14.328125 \r\nQ 29.296875 6.6875 41.796875 6.6875 \r\nQ 48.140625 6.6875 53.78125 8.984375 \r\nQ 59.421875 11.28125 64.40625 15.921875 \r\nL 64.40625 5.609375 \r\nQ 59.234375 2.09375 53.4375 0.328125 \r\nQ 47.65625 -1.421875 41.21875 -1.421875 \r\nQ 24.65625 -1.421875 15.125 8.703125 \r\nQ 5.609375 18.84375 5.609375 36.375 \r\nQ 5.609375 53.953125 15.125 64.078125 \r\nQ 24.65625 74.21875 41.21875 74.21875 \r\nQ 47.75 74.21875 53.53125 72.484375 \r\nQ 59.328125 70.75 64.40625 67.28125 \r\nz\r\n\" id=\"DejaVuSans-67\"/>\r\n       </defs>\r\n       <use xlink:href=\"#DejaVuSans-67\"/>\r\n       <use x=\"69.824219\" xlink:href=\"#DejaVuSans-79\"/>\r\n       <use x=\"148.535156\" xlink:href=\"#DejaVuSans-76\"/>\r\n      </g>\r\n     </g>\r\n    </g>\r\n    <g id=\"xtick_5\">\r\n     <g id=\"line2d_5\">\r\n      <g>\r\n       <use style=\"stroke:#000000;stroke-width:0.8;\" x=\"387.943125\" xlink:href=\"#meef39ca3fb\" y=\"239.758125\"/>\r\n      </g>\r\n     </g>\r\n     <g id=\"text_5\">\r\n      <!-- PIT -->\r\n      <g transform=\"translate(390.7025 261.845625)rotate(-90)scale(0.1 -0.1)\">\r\n       <defs>\r\n        <path d=\"M 9.8125 72.90625 \r\nL 19.671875 72.90625 \r\nL 19.671875 0 \r\nL 9.8125 0 \r\nz\r\n\" id=\"DejaVuSans-73\"/>\r\n       </defs>\r\n       <use xlink:href=\"#DejaVuSans-80\"/>\r\n       <use x=\"60.302734\" xlink:href=\"#DejaVuSans-73\"/>\r\n       <use x=\"89.794922\" xlink:href=\"#DejaVuSans-84\"/>\r\n      </g>\r\n     </g>\r\n    </g>\r\n    <g id=\"text_6\">\r\n     <!-- abbreviation -->\r\n     <g transform=\"translate(222.60125 282.022187)scale(0.1 -0.1)\">\r\n      <defs>\r\n       <path d=\"M 34.28125 27.484375 \r\nQ 23.390625 27.484375 19.1875 25 \r\nQ 14.984375 22.515625 14.984375 16.5 \r\nQ 14.984375 11.71875 18.140625 8.90625 \r\nQ 21.296875 6.109375 26.703125 6.109375 \r\nQ 34.1875 6.109375 38.703125 11.40625 \r\nQ 43.21875 16.703125 43.21875 25.484375 \r\nL 43.21875 27.484375 \r\nz\r\nM 52.203125 31.203125 \r\nL 52.203125 0 \r\nL 43.21875 0 \r\nL 43.21875 8.296875 \r\nQ 40.140625 3.328125 35.546875 0.953125 \r\nQ 30.953125 -1.421875 24.3125 -1.421875 \r\nQ 15.921875 -1.421875 10.953125 3.296875 \r\nQ 6 8.015625 6 15.921875 \r\nQ 6 25.140625 12.171875 29.828125 \r\nQ 18.359375 34.515625 30.609375 34.515625 \r\nL 43.21875 34.515625 \r\nL 43.21875 35.40625 \r\nQ 43.21875 41.609375 39.140625 45 \r\nQ 35.0625 48.390625 27.6875 48.390625 \r\nQ 23 48.390625 18.546875 47.265625 \r\nQ 14.109375 46.140625 10.015625 43.890625 \r\nL 10.015625 52.203125 \r\nQ 14.9375 54.109375 19.578125 55.046875 \r\nQ 24.21875 56 28.609375 56 \r\nQ 40.484375 56 46.34375 49.84375 \r\nQ 52.203125 43.703125 52.203125 31.203125 \r\nz\r\n\" id=\"DejaVuSans-97\"/>\r\n       <path d=\"M 48.6875 27.296875 \r\nQ 48.6875 37.203125 44.609375 42.84375 \r\nQ 40.53125 48.484375 33.40625 48.484375 \r\nQ 26.265625 48.484375 22.1875 42.84375 \r\nQ 18.109375 37.203125 18.109375 27.296875 \r\nQ 18.109375 17.390625 22.1875 11.75 \r\nQ 26.265625 6.109375 33.40625 6.109375 \r\nQ 40.53125 6.109375 44.609375 11.75 \r\nQ 48.6875 17.390625 48.6875 27.296875 \r\nz\r\nM 18.109375 46.390625 \r\nQ 20.953125 51.265625 25.265625 53.625 \r\nQ 29.59375 56 35.59375 56 \r\nQ 45.5625 56 51.78125 48.09375 \r\nQ 58.015625 40.1875 58.015625 27.296875 \r\nQ 58.015625 14.40625 51.78125 6.484375 \r\nQ 45.5625 -1.421875 35.59375 -1.421875 \r\nQ 29.59375 -1.421875 25.265625 0.953125 \r\nQ 20.953125 3.328125 18.109375 8.203125 \r\nL 18.109375 0 \r\nL 9.078125 0 \r\nL 9.078125 75.984375 \r\nL 18.109375 75.984375 \r\nz\r\n\" id=\"DejaVuSans-98\"/>\r\n       <path d=\"M 41.109375 46.296875 \r\nQ 39.59375 47.171875 37.8125 47.578125 \r\nQ 36.03125 48 33.890625 48 \r\nQ 26.265625 48 22.1875 43.046875 \r\nQ 18.109375 38.09375 18.109375 28.8125 \r\nL 18.109375 0 \r\nL 9.078125 0 \r\nL 9.078125 54.6875 \r\nL 18.109375 54.6875 \r\nL 18.109375 46.1875 \r\nQ 20.953125 51.171875 25.484375 53.578125 \r\nQ 30.03125 56 36.53125 56 \r\nQ 37.453125 56 38.578125 55.875 \r\nQ 39.703125 55.765625 41.0625 55.515625 \r\nz\r\n\" id=\"DejaVuSans-114\"/>\r\n       <path d=\"M 56.203125 29.59375 \r\nL 56.203125 25.203125 \r\nL 14.890625 25.203125 \r\nQ 15.484375 15.921875 20.484375 11.0625 \r\nQ 25.484375 6.203125 34.421875 6.203125 \r\nQ 39.59375 6.203125 44.453125 7.46875 \r\nQ 49.3125 8.734375 54.109375 11.28125 \r\nL 54.109375 2.78125 \r\nQ 49.265625 0.734375 44.1875 -0.34375 \r\nQ 39.109375 -1.421875 33.890625 -1.421875 \r\nQ 20.796875 -1.421875 13.15625 6.1875 \r\nQ 5.515625 13.8125 5.515625 26.8125 \r\nQ 5.515625 40.234375 12.765625 48.109375 \r\nQ 20.015625 56 32.328125 56 \r\nQ 43.359375 56 49.78125 48.890625 \r\nQ 56.203125 41.796875 56.203125 29.59375 \r\nz\r\nM 47.21875 32.234375 \r\nQ 47.125 39.59375 43.09375 43.984375 \r\nQ 39.0625 48.390625 32.421875 48.390625 \r\nQ 24.90625 48.390625 20.390625 44.140625 \r\nQ 15.875 39.890625 15.1875 32.171875 \r\nz\r\n\" id=\"DejaVuSans-101\"/>\r\n       <path d=\"M 2.984375 54.6875 \r\nL 12.5 54.6875 \r\nL 29.59375 8.796875 \r\nL 46.6875 54.6875 \r\nL 56.203125 54.6875 \r\nL 35.6875 0 \r\nL 23.484375 0 \r\nz\r\n\" id=\"DejaVuSans-118\"/>\r\n       <path d=\"M 9.421875 54.6875 \r\nL 18.40625 54.6875 \r\nL 18.40625 0 \r\nL 9.421875 0 \r\nz\r\nM 9.421875 75.984375 \r\nL 18.40625 75.984375 \r\nL 18.40625 64.59375 \r\nL 9.421875 64.59375 \r\nz\r\n\" id=\"DejaVuSans-105\"/>\r\n       <path d=\"M 18.3125 70.21875 \r\nL 18.3125 54.6875 \r\nL 36.8125 54.6875 \r\nL 36.8125 47.703125 \r\nL 18.3125 47.703125 \r\nL 18.3125 18.015625 \r\nQ 18.3125 11.328125 20.140625 9.421875 \r\nQ 21.96875 7.515625 27.59375 7.515625 \r\nL 36.8125 7.515625 \r\nL 36.8125 0 \r\nL 27.59375 0 \r\nQ 17.1875 0 13.234375 3.875 \r\nQ 9.28125 7.765625 9.28125 18.015625 \r\nL 9.28125 47.703125 \r\nL 2.6875 47.703125 \r\nL 2.6875 54.6875 \r\nL 9.28125 54.6875 \r\nL 9.28125 70.21875 \r\nz\r\n\" id=\"DejaVuSans-116\"/>\r\n       <path d=\"M 30.609375 48.390625 \r\nQ 23.390625 48.390625 19.1875 42.75 \r\nQ 14.984375 37.109375 14.984375 27.296875 \r\nQ 14.984375 17.484375 19.15625 11.84375 \r\nQ 23.34375 6.203125 30.609375 6.203125 \r\nQ 37.796875 6.203125 41.984375 11.859375 \r\nQ 46.1875 17.53125 46.1875 27.296875 \r\nQ 46.1875 37.015625 41.984375 42.703125 \r\nQ 37.796875 48.390625 30.609375 48.390625 \r\nz\r\nM 30.609375 56 \r\nQ 42.328125 56 49.015625 48.375 \r\nQ 55.71875 40.765625 55.71875 27.296875 \r\nQ 55.71875 13.875 49.015625 6.21875 \r\nQ 42.328125 -1.421875 30.609375 -1.421875 \r\nQ 18.84375 -1.421875 12.171875 6.21875 \r\nQ 5.515625 13.875 5.515625 27.296875 \r\nQ 5.515625 40.765625 12.171875 48.375 \r\nQ 18.84375 56 30.609375 56 \r\nz\r\n\" id=\"DejaVuSans-111\"/>\r\n       <path d=\"M 54.890625 33.015625 \r\nL 54.890625 0 \r\nL 45.90625 0 \r\nL 45.90625 32.71875 \r\nQ 45.90625 40.484375 42.875 44.328125 \r\nQ 39.84375 48.1875 33.796875 48.1875 \r\nQ 26.515625 48.1875 22.3125 43.546875 \r\nQ 18.109375 38.921875 18.109375 30.90625 \r\nL 18.109375 0 \r\nL 9.078125 0 \r\nL 9.078125 54.6875 \r\nL 18.109375 54.6875 \r\nL 18.109375 46.1875 \r\nQ 21.34375 51.125 25.703125 53.5625 \r\nQ 30.078125 56 35.796875 56 \r\nQ 45.21875 56 50.046875 50.171875 \r\nQ 54.890625 44.34375 54.890625 33.015625 \r\nz\r\n\" id=\"DejaVuSans-110\"/>\r\n      </defs>\r\n      <use xlink:href=\"#DejaVuSans-97\"/>\r\n      <use x=\"61.279297\" xlink:href=\"#DejaVuSans-98\"/>\r\n      <use x=\"124.755859\" xlink:href=\"#DejaVuSans-98\"/>\r\n      <use x=\"188.232422\" xlink:href=\"#DejaVuSans-114\"/>\r\n      <use x=\"227.095703\" xlink:href=\"#DejaVuSans-101\"/>\r\n      <use x=\"288.619141\" xlink:href=\"#DejaVuSans-118\"/>\r\n      <use x=\"347.798828\" xlink:href=\"#DejaVuSans-105\"/>\r\n      <use x=\"375.582031\" xlink:href=\"#DejaVuSans-97\"/>\r\n      <use x=\"436.861328\" xlink:href=\"#DejaVuSans-116\"/>\r\n      <use x=\"476.070312\" xlink:href=\"#DejaVuSans-105\"/>\r\n      <use x=\"503.853516\" xlink:href=\"#DejaVuSans-111\"/>\r\n      <use x=\"565.035156\" xlink:href=\"#DejaVuSans-110\"/>\r\n     </g>\r\n    </g>\r\n   </g>\r\n   <g id=\"matplotlib.axis_2\">\r\n    <g id=\"ytick_1\">\r\n     <g id=\"line2d_6\">\r\n      <defs>\r\n       <path d=\"M 0 0 \r\nL -3.5 0 \r\n\" id=\"m9c72f8a243\" style=\"stroke:#000000;stroke-width:0.8;\"/>\r\n      </defs>\r\n      <g>\r\n       <use style=\"stroke:#000000;stroke-width:0.8;\" x=\"86.623125\" xlink:href=\"#m9c72f8a243\" y=\"239.758125\"/>\r\n      </g>\r\n     </g>\r\n     <g id=\"text_7\">\r\n      <!-- 0.00 -->\r\n      <g transform=\"translate(57.3575 243.557344)scale(0.1 -0.1)\">\r\n       <defs>\r\n        <path d=\"M 31.78125 66.40625 \r\nQ 24.171875 66.40625 20.328125 58.90625 \r\nQ 16.5 51.421875 16.5 36.375 \r\nQ 16.5 21.390625 20.328125 13.890625 \r\nQ 24.171875 6.390625 31.78125 6.390625 \r\nQ 39.453125 6.390625 43.28125 13.890625 \r\nQ 47.125 21.390625 47.125 36.375 \r\nQ 47.125 51.421875 43.28125 58.90625 \r\nQ 39.453125 66.40625 31.78125 66.40625 \r\nz\r\nM 31.78125 74.21875 \r\nQ 44.046875 74.21875 50.515625 64.515625 \r\nQ 56.984375 54.828125 56.984375 36.375 \r\nQ 56.984375 17.96875 50.515625 8.265625 \r\nQ 44.046875 -1.421875 31.78125 -1.421875 \r\nQ 19.53125 -1.421875 13.0625 8.265625 \r\nQ 6.59375 17.96875 6.59375 36.375 \r\nQ 6.59375 54.828125 13.0625 64.515625 \r\nQ 19.53125 74.21875 31.78125 74.21875 \r\nz\r\n\" id=\"DejaVuSans-48\"/>\r\n        <path d=\"M 10.6875 12.40625 \r\nL 21 12.40625 \r\nL 21 0 \r\nL 10.6875 0 \r\nz\r\n\" id=\"DejaVuSans-46\"/>\r\n       </defs>\r\n       <use xlink:href=\"#DejaVuSans-48\"/>\r\n       <use x=\"63.623047\" xlink:href=\"#DejaVuSans-46\"/>\r\n       <use x=\"95.410156\" xlink:href=\"#DejaVuSans-48\"/>\r\n       <use x=\"159.033203\" xlink:href=\"#DejaVuSans-48\"/>\r\n      </g>\r\n     </g>\r\n    </g>\r\n    <g id=\"ytick_2\">\r\n     <g id=\"line2d_7\">\r\n      <g>\r\n       <use style=\"stroke:#000000;stroke-width:0.8;\" x=\"86.623125\" xlink:href=\"#m9c72f8a243\" y=\"195.834849\"/>\r\n      </g>\r\n     </g>\r\n     <g id=\"text_8\">\r\n      <!-- 0.01 -->\r\n      <g transform=\"translate(57.3575 199.634068)scale(0.1 -0.1)\">\r\n       <defs>\r\n        <path d=\"M 12.40625 8.296875 \r\nL 28.515625 8.296875 \r\nL 28.515625 63.921875 \r\nL 10.984375 60.40625 \r\nL 10.984375 69.390625 \r\nL 28.421875 72.90625 \r\nL 38.28125 72.90625 \r\nL 38.28125 8.296875 \r\nL 54.390625 8.296875 \r\nL 54.390625 0 \r\nL 12.40625 0 \r\nz\r\n\" id=\"DejaVuSans-49\"/>\r\n       </defs>\r\n       <use xlink:href=\"#DejaVuSans-48\"/>\r\n       <use x=\"63.623047\" xlink:href=\"#DejaVuSans-46\"/>\r\n       <use x=\"95.410156\" xlink:href=\"#DejaVuSans-48\"/>\r\n       <use x=\"159.033203\" xlink:href=\"#DejaVuSans-49\"/>\r\n      </g>\r\n     </g>\r\n    </g>\r\n    <g id=\"ytick_3\">\r\n     <g id=\"line2d_8\">\r\n      <g>\r\n       <use style=\"stroke:#000000;stroke-width:0.8;\" x=\"86.623125\" xlink:href=\"#m9c72f8a243\" y=\"151.911574\"/>\r\n      </g>\r\n     </g>\r\n     <g id=\"text_9\">\r\n      <!-- 0.02 -->\r\n      <g transform=\"translate(57.3575 155.710792)scale(0.1 -0.1)\">\r\n       <defs>\r\n        <path d=\"M 19.1875 8.296875 \r\nL 53.609375 8.296875 \r\nL 53.609375 0 \r\nL 7.328125 0 \r\nL 7.328125 8.296875 \r\nQ 12.9375 14.109375 22.625 23.890625 \r\nQ 32.328125 33.6875 34.8125 36.53125 \r\nQ 39.546875 41.84375 41.421875 45.53125 \r\nQ 43.3125 49.21875 43.3125 52.78125 \r\nQ 43.3125 58.59375 39.234375 62.25 \r\nQ 35.15625 65.921875 28.609375 65.921875 \r\nQ 23.96875 65.921875 18.8125 64.3125 \r\nQ 13.671875 62.703125 7.8125 59.421875 \r\nL 7.8125 69.390625 \r\nQ 13.765625 71.78125 18.9375 73 \r\nQ 24.125 74.21875 28.421875 74.21875 \r\nQ 39.75 74.21875 46.484375 68.546875 \r\nQ 53.21875 62.890625 53.21875 53.421875 \r\nQ 53.21875 48.921875 51.53125 44.890625 \r\nQ 49.859375 40.875 45.40625 35.40625 \r\nQ 44.1875 33.984375 37.640625 27.21875 \r\nQ 31.109375 20.453125 19.1875 8.296875 \r\nz\r\n\" id=\"DejaVuSans-50\"/>\r\n       </defs>\r\n       <use xlink:href=\"#DejaVuSans-48\"/>\r\n       <use x=\"63.623047\" xlink:href=\"#DejaVuSans-46\"/>\r\n       <use x=\"95.410156\" xlink:href=\"#DejaVuSans-48\"/>\r\n       <use x=\"159.033203\" xlink:href=\"#DejaVuSans-50\"/>\r\n      </g>\r\n     </g>\r\n    </g>\r\n    <g id=\"ytick_4\">\r\n     <g id=\"line2d_9\">\r\n      <g>\r\n       <use style=\"stroke:#000000;stroke-width:0.8;\" x=\"86.623125\" xlink:href=\"#m9c72f8a243\" y=\"107.988298\"/>\r\n      </g>\r\n     </g>\r\n     <g id=\"text_10\">\r\n      <!-- 0.03 -->\r\n      <g transform=\"translate(57.3575 111.787517)scale(0.1 -0.1)\">\r\n       <defs>\r\n        <path d=\"M 40.578125 39.3125 \r\nQ 47.65625 37.796875 51.625 33 \r\nQ 55.609375 28.21875 55.609375 21.1875 \r\nQ 55.609375 10.40625 48.1875 4.484375 \r\nQ 40.765625 -1.421875 27.09375 -1.421875 \r\nQ 22.515625 -1.421875 17.65625 -0.515625 \r\nQ 12.796875 0.390625 7.625 2.203125 \r\nL 7.625 11.71875 \r\nQ 11.71875 9.328125 16.59375 8.109375 \r\nQ 21.484375 6.890625 26.8125 6.890625 \r\nQ 36.078125 6.890625 40.9375 10.546875 \r\nQ 45.796875 14.203125 45.796875 21.1875 \r\nQ 45.796875 27.640625 41.28125 31.265625 \r\nQ 36.765625 34.90625 28.71875 34.90625 \r\nL 20.21875 34.90625 \r\nL 20.21875 43.015625 \r\nL 29.109375 43.015625 \r\nQ 36.375 43.015625 40.234375 45.921875 \r\nQ 44.09375 48.828125 44.09375 54.296875 \r\nQ 44.09375 59.90625 40.109375 62.90625 \r\nQ 36.140625 65.921875 28.71875 65.921875 \r\nQ 24.65625 65.921875 20.015625 65.03125 \r\nQ 15.375 64.15625 9.8125 62.3125 \r\nL 9.8125 71.09375 \r\nQ 15.4375 72.65625 20.34375 73.4375 \r\nQ 25.25 74.21875 29.59375 74.21875 \r\nQ 40.828125 74.21875 47.359375 69.109375 \r\nQ 53.90625 64.015625 53.90625 55.328125 \r\nQ 53.90625 49.265625 50.4375 45.09375 \r\nQ 46.96875 40.921875 40.578125 39.3125 \r\nz\r\n\" id=\"DejaVuSans-51\"/>\r\n       </defs>\r\n       <use xlink:href=\"#DejaVuSans-48\"/>\r\n       <use x=\"63.623047\" xlink:href=\"#DejaVuSans-46\"/>\r\n       <use x=\"95.410156\" xlink:href=\"#DejaVuSans-48\"/>\r\n       <use x=\"159.033203\" xlink:href=\"#DejaVuSans-51\"/>\r\n      </g>\r\n     </g>\r\n    </g>\r\n    <g id=\"ytick_5\">\r\n     <g id=\"line2d_10\">\r\n      <g>\r\n       <use style=\"stroke:#000000;stroke-width:0.8;\" x=\"86.623125\" xlink:href=\"#m9c72f8a243\" y=\"64.065022\"/>\r\n      </g>\r\n     </g>\r\n     <g id=\"text_11\">\r\n      <!-- 0.04 -->\r\n      <g transform=\"translate(57.3575 67.864241)scale(0.1 -0.1)\">\r\n       <defs>\r\n        <path d=\"M 37.796875 64.3125 \r\nL 12.890625 25.390625 \r\nL 37.796875 25.390625 \r\nz\r\nM 35.203125 72.90625 \r\nL 47.609375 72.90625 \r\nL 47.609375 25.390625 \r\nL 58.015625 25.390625 \r\nL 58.015625 17.1875 \r\nL 47.609375 17.1875 \r\nL 47.609375 0 \r\nL 37.796875 0 \r\nL 37.796875 17.1875 \r\nL 4.890625 17.1875 \r\nL 4.890625 26.703125 \r\nz\r\n\" id=\"DejaVuSans-52\"/>\r\n       </defs>\r\n       <use xlink:href=\"#DejaVuSans-48\"/>\r\n       <use x=\"63.623047\" xlink:href=\"#DejaVuSans-46\"/>\r\n       <use x=\"95.410156\" xlink:href=\"#DejaVuSans-48\"/>\r\n       <use x=\"159.033203\" xlink:href=\"#DejaVuSans-52\"/>\r\n      </g>\r\n     </g>\r\n    </g>\r\n   </g>\r\n   <g id=\"patch_8\">\r\n    <path d=\"M 86.623125 239.758125 \r\nL 86.623125 22.318125 \r\n\" style=\"fill:none;stroke:#000000;stroke-linecap:square;stroke-linejoin:miter;stroke-width:0.8;\"/>\r\n   </g>\r\n   <g id=\"patch_9\">\r\n    <path d=\"M 421.423125 239.758125 \r\nL 421.423125 22.318125 \r\n\" style=\"fill:none;stroke:#000000;stroke-linecap:square;stroke-linejoin:miter;stroke-width:0.8;\"/>\r\n   </g>\r\n   <g id=\"patch_10\">\r\n    <path d=\"M 86.623125 239.758125 \r\nL 421.423125 239.758125 \r\n\" style=\"fill:none;stroke:#000000;stroke-linecap:square;stroke-linejoin:miter;stroke-width:0.8;\"/>\r\n   </g>\r\n   <g id=\"patch_11\">\r\n    <path d=\"M 86.623125 22.318125 \r\nL 421.423125 22.318125 \r\n\" style=\"fill:none;stroke:#000000;stroke-linecap:square;stroke-linejoin:miter;stroke-width:0.8;\"/>\r\n   </g>\r\n   <g id=\"text_12\">\r\n    <!-- Powerplay Goals by Team per Game (over the 2017-2018 and 2018-2019 Seasons -->\r\n    <g transform=\"translate(7.2 16.318125)scale(0.12 -0.12)\">\r\n     <defs>\r\n      <path d=\"M 4.203125 54.6875 \r\nL 13.1875 54.6875 \r\nL 24.421875 12.015625 \r\nL 35.59375 54.6875 \r\nL 46.1875 54.6875 \r\nL 57.421875 12.015625 \r\nL 68.609375 54.6875 \r\nL 77.59375 54.6875 \r\nL 63.28125 0 \r\nL 52.6875 0 \r\nL 40.921875 44.828125 \r\nL 29.109375 0 \r\nL 18.5 0 \r\nz\r\n\" id=\"DejaVuSans-119\"/>\r\n      <path d=\"M 18.109375 8.203125 \r\nL 18.109375 -20.796875 \r\nL 9.078125 -20.796875 \r\nL 9.078125 54.6875 \r\nL 18.109375 54.6875 \r\nL 18.109375 46.390625 \r\nQ 20.953125 51.265625 25.265625 53.625 \r\nQ 29.59375 56 35.59375 56 \r\nQ 45.5625 56 51.78125 48.09375 \r\nQ 58.015625 40.1875 58.015625 27.296875 \r\nQ 58.015625 14.40625 51.78125 6.484375 \r\nQ 45.5625 -1.421875 35.59375 -1.421875 \r\nQ 29.59375 -1.421875 25.265625 0.953125 \r\nQ 20.953125 3.328125 18.109375 8.203125 \r\nz\r\nM 48.6875 27.296875 \r\nQ 48.6875 37.203125 44.609375 42.84375 \r\nQ 40.53125 48.484375 33.40625 48.484375 \r\nQ 26.265625 48.484375 22.1875 42.84375 \r\nQ 18.109375 37.203125 18.109375 27.296875 \r\nQ 18.109375 17.390625 22.1875 11.75 \r\nQ 26.265625 6.109375 33.40625 6.109375 \r\nQ 40.53125 6.109375 44.609375 11.75 \r\nQ 48.6875 17.390625 48.6875 27.296875 \r\nz\r\n\" id=\"DejaVuSans-112\"/>\r\n      <path d=\"M 9.421875 75.984375 \r\nL 18.40625 75.984375 \r\nL 18.40625 0 \r\nL 9.421875 0 \r\nz\r\n\" id=\"DejaVuSans-108\"/>\r\n      <path d=\"M 32.171875 -5.078125 \r\nQ 28.375 -14.84375 24.75 -17.8125 \r\nQ 21.140625 -20.796875 15.09375 -20.796875 \r\nL 7.90625 -20.796875 \r\nL 7.90625 -13.28125 \r\nL 13.1875 -13.28125 \r\nQ 16.890625 -13.28125 18.9375 -11.515625 \r\nQ 21 -9.765625 23.484375 -3.21875 \r\nL 25.09375 0.875 \r\nL 2.984375 54.6875 \r\nL 12.5 54.6875 \r\nL 29.59375 11.921875 \r\nL 46.6875 54.6875 \r\nL 56.203125 54.6875 \r\nz\r\n\" id=\"DejaVuSans-121\"/>\r\n      <path id=\"DejaVuSans-32\"/>\r\n      <path d=\"M 44.28125 53.078125 \r\nL 44.28125 44.578125 \r\nQ 40.484375 46.53125 36.375 47.5 \r\nQ 32.28125 48.484375 27.875 48.484375 \r\nQ 21.1875 48.484375 17.84375 46.4375 \r\nQ 14.5 44.390625 14.5 40.28125 \r\nQ 14.5 37.15625 16.890625 35.375 \r\nQ 19.28125 33.59375 26.515625 31.984375 \r\nL 29.59375 31.296875 \r\nQ 39.15625 29.25 43.1875 25.515625 \r\nQ 47.21875 21.78125 47.21875 15.09375 \r\nQ 47.21875 7.46875 41.1875 3.015625 \r\nQ 35.15625 -1.421875 24.609375 -1.421875 \r\nQ 20.21875 -1.421875 15.453125 -0.5625 \r\nQ 10.6875 0.296875 5.421875 2 \r\nL 5.421875 11.28125 \r\nQ 10.40625 8.6875 15.234375 7.390625 \r\nQ 20.0625 6.109375 24.8125 6.109375 \r\nQ 31.15625 6.109375 34.5625 8.28125 \r\nQ 37.984375 10.453125 37.984375 14.40625 \r\nQ 37.984375 18.0625 35.515625 20.015625 \r\nQ 33.0625 21.96875 24.703125 23.78125 \r\nL 21.578125 24.515625 \r\nQ 13.234375 26.265625 9.515625 29.90625 \r\nQ 5.8125 33.546875 5.8125 39.890625 \r\nQ 5.8125 47.609375 11.28125 51.796875 \r\nQ 16.75 56 26.8125 56 \r\nQ 31.78125 56 36.171875 55.265625 \r\nQ 40.578125 54.546875 44.28125 53.078125 \r\nz\r\n\" id=\"DejaVuSans-115\"/>\r\n      <path d=\"M 52 44.1875 \r\nQ 55.375 50.25 60.0625 53.125 \r\nQ 64.75 56 71.09375 56 \r\nQ 79.640625 56 84.28125 50.015625 \r\nQ 88.921875 44.046875 88.921875 33.015625 \r\nL 88.921875 0 \r\nL 79.890625 0 \r\nL 79.890625 32.71875 \r\nQ 79.890625 40.578125 77.09375 44.375 \r\nQ 74.3125 48.1875 68.609375 48.1875 \r\nQ 61.625 48.1875 57.5625 43.546875 \r\nQ 53.515625 38.921875 53.515625 30.90625 \r\nL 53.515625 0 \r\nL 44.484375 0 \r\nL 44.484375 32.71875 \r\nQ 44.484375 40.625 41.703125 44.40625 \r\nQ 38.921875 48.1875 33.109375 48.1875 \r\nQ 26.21875 48.1875 22.15625 43.53125 \r\nQ 18.109375 38.875 18.109375 30.90625 \r\nL 18.109375 0 \r\nL 9.078125 0 \r\nL 9.078125 54.6875 \r\nL 18.109375 54.6875 \r\nL 18.109375 46.1875 \r\nQ 21.1875 51.21875 25.484375 53.609375 \r\nQ 29.78125 56 35.6875 56 \r\nQ 41.65625 56 45.828125 52.96875 \r\nQ 50 49.953125 52 44.1875 \r\nz\r\n\" id=\"DejaVuSans-109\"/>\r\n      <path d=\"M 31 75.875 \r\nQ 24.46875 64.65625 21.28125 53.65625 \r\nQ 18.109375 42.671875 18.109375 31.390625 \r\nQ 18.109375 20.125 21.3125 9.0625 \r\nQ 24.515625 -2 31 -13.1875 \r\nL 23.1875 -13.1875 \r\nQ 15.875 -1.703125 12.234375 9.375 \r\nQ 8.59375 20.453125 8.59375 31.390625 \r\nQ 8.59375 42.28125 12.203125 53.3125 \r\nQ 15.828125 64.359375 23.1875 75.875 \r\nz\r\n\" id=\"DejaVuSans-40\"/>\r\n      <path d=\"M 54.890625 33.015625 \r\nL 54.890625 0 \r\nL 45.90625 0 \r\nL 45.90625 32.71875 \r\nQ 45.90625 40.484375 42.875 44.328125 \r\nQ 39.84375 48.1875 33.796875 48.1875 \r\nQ 26.515625 48.1875 22.3125 43.546875 \r\nQ 18.109375 38.921875 18.109375 30.90625 \r\nL 18.109375 0 \r\nL 9.078125 0 \r\nL 9.078125 75.984375 \r\nL 18.109375 75.984375 \r\nL 18.109375 46.1875 \r\nQ 21.34375 51.125 25.703125 53.5625 \r\nQ 30.078125 56 35.796875 56 \r\nQ 45.21875 56 50.046875 50.171875 \r\nQ 54.890625 44.34375 54.890625 33.015625 \r\nz\r\n\" id=\"DejaVuSans-104\"/>\r\n      <path d=\"M 8.203125 72.90625 \r\nL 55.078125 72.90625 \r\nL 55.078125 68.703125 \r\nL 28.609375 0 \r\nL 18.3125 0 \r\nL 43.21875 64.59375 \r\nL 8.203125 64.59375 \r\nz\r\n\" id=\"DejaVuSans-55\"/>\r\n      <path d=\"M 4.890625 31.390625 \r\nL 31.203125 31.390625 \r\nL 31.203125 23.390625 \r\nL 4.890625 23.390625 \r\nz\r\n\" id=\"DejaVuSans-45\"/>\r\n      <path d=\"M 31.78125 34.625 \r\nQ 24.75 34.625 20.71875 30.859375 \r\nQ 16.703125 27.09375 16.703125 20.515625 \r\nQ 16.703125 13.921875 20.71875 10.15625 \r\nQ 24.75 6.390625 31.78125 6.390625 \r\nQ 38.8125 6.390625 42.859375 10.171875 \r\nQ 46.921875 13.96875 46.921875 20.515625 \r\nQ 46.921875 27.09375 42.890625 30.859375 \r\nQ 38.875 34.625 31.78125 34.625 \r\nz\r\nM 21.921875 38.8125 \r\nQ 15.578125 40.375 12.03125 44.71875 \r\nQ 8.5 49.078125 8.5 55.328125 \r\nQ 8.5 64.0625 14.71875 69.140625 \r\nQ 20.953125 74.21875 31.78125 74.21875 \r\nQ 42.671875 74.21875 48.875 69.140625 \r\nQ 55.078125 64.0625 55.078125 55.328125 \r\nQ 55.078125 49.078125 51.53125 44.71875 \r\nQ 48 40.375 41.703125 38.8125 \r\nQ 48.828125 37.15625 52.796875 32.3125 \r\nQ 56.78125 27.484375 56.78125 20.515625 \r\nQ 56.78125 9.90625 50.3125 4.234375 \r\nQ 43.84375 -1.421875 31.78125 -1.421875 \r\nQ 19.734375 -1.421875 13.25 4.234375 \r\nQ 6.78125 9.90625 6.78125 20.515625 \r\nQ 6.78125 27.484375 10.78125 32.3125 \r\nQ 14.796875 37.15625 21.921875 38.8125 \r\nz\r\nM 18.3125 54.390625 \r\nQ 18.3125 48.734375 21.84375 45.5625 \r\nQ 25.390625 42.390625 31.78125 42.390625 \r\nQ 38.140625 42.390625 41.71875 45.5625 \r\nQ 45.3125 48.734375 45.3125 54.390625 \r\nQ 45.3125 60.0625 41.71875 63.234375 \r\nQ 38.140625 66.40625 31.78125 66.40625 \r\nQ 25.390625 66.40625 21.84375 63.234375 \r\nQ 18.3125 60.0625 18.3125 54.390625 \r\nz\r\n\" id=\"DejaVuSans-56\"/>\r\n      <path d=\"M 45.40625 46.390625 \r\nL 45.40625 75.984375 \r\nL 54.390625 75.984375 \r\nL 54.390625 0 \r\nL 45.40625 0 \r\nL 45.40625 8.203125 \r\nQ 42.578125 3.328125 38.25 0.953125 \r\nQ 33.9375 -1.421875 27.875 -1.421875 \r\nQ 17.96875 -1.421875 11.734375 6.484375 \r\nQ 5.515625 14.40625 5.515625 27.296875 \r\nQ 5.515625 40.1875 11.734375 48.09375 \r\nQ 17.96875 56 27.875 56 \r\nQ 33.9375 56 38.25 53.625 \r\nQ 42.578125 51.265625 45.40625 46.390625 \r\nz\r\nM 14.796875 27.296875 \r\nQ 14.796875 17.390625 18.875 11.75 \r\nQ 22.953125 6.109375 30.078125 6.109375 \r\nQ 37.203125 6.109375 41.296875 11.75 \r\nQ 45.40625 17.390625 45.40625 27.296875 \r\nQ 45.40625 37.203125 41.296875 42.84375 \r\nQ 37.203125 48.484375 30.078125 48.484375 \r\nQ 22.953125 48.484375 18.875 42.84375 \r\nQ 14.796875 37.203125 14.796875 27.296875 \r\nz\r\n\" id=\"DejaVuSans-100\"/>\r\n      <path d=\"M 10.984375 1.515625 \r\nL 10.984375 10.5 \r\nQ 14.703125 8.734375 18.5 7.8125 \r\nQ 22.3125 6.890625 25.984375 6.890625 \r\nQ 35.75 6.890625 40.890625 13.453125 \r\nQ 46.046875 20.015625 46.78125 33.40625 \r\nQ 43.953125 29.203125 39.59375 26.953125 \r\nQ 35.25 24.703125 29.984375 24.703125 \r\nQ 19.046875 24.703125 12.671875 31.3125 \r\nQ 6.296875 37.9375 6.296875 49.421875 \r\nQ 6.296875 60.640625 12.9375 67.421875 \r\nQ 19.578125 74.21875 30.609375 74.21875 \r\nQ 43.265625 74.21875 49.921875 64.515625 \r\nQ 56.59375 54.828125 56.59375 36.375 \r\nQ 56.59375 19.140625 48.40625 8.859375 \r\nQ 40.234375 -1.421875 26.421875 -1.421875 \r\nQ 22.703125 -1.421875 18.890625 -0.6875 \r\nQ 15.09375 0.046875 10.984375 1.515625 \r\nz\r\nM 30.609375 32.421875 \r\nQ 37.25 32.421875 41.125 36.953125 \r\nQ 45.015625 41.5 45.015625 49.421875 \r\nQ 45.015625 57.28125 41.125 61.84375 \r\nQ 37.25 66.40625 30.609375 66.40625 \r\nQ 23.96875 66.40625 20.09375 61.84375 \r\nQ 16.21875 57.28125 16.21875 49.421875 \r\nQ 16.21875 41.5 20.09375 36.953125 \r\nQ 23.96875 32.421875 30.609375 32.421875 \r\nz\r\n\" id=\"DejaVuSans-57\"/>\r\n     </defs>\r\n     <use xlink:href=\"#DejaVuSans-80\"/>\r\n     <use x=\"56.677734\" xlink:href=\"#DejaVuSans-111\"/>\r\n     <use x=\"117.859375\" xlink:href=\"#DejaVuSans-119\"/>\r\n     <use x=\"199.646484\" xlink:href=\"#DejaVuSans-101\"/>\r\n     <use x=\"261.169922\" xlink:href=\"#DejaVuSans-114\"/>\r\n     <use x=\"302.283203\" xlink:href=\"#DejaVuSans-112\"/>\r\n     <use x=\"365.759766\" xlink:href=\"#DejaVuSans-108\"/>\r\n     <use x=\"393.542969\" xlink:href=\"#DejaVuSans-97\"/>\r\n     <use x=\"454.822266\" xlink:href=\"#DejaVuSans-121\"/>\r\n     <use x=\"514.001953\" xlink:href=\"#DejaVuSans-32\"/>\r\n     <use x=\"545.789062\" xlink:href=\"#DejaVuSans-71\"/>\r\n     <use x=\"623.279297\" xlink:href=\"#DejaVuSans-111\"/>\r\n     <use x=\"684.460938\" xlink:href=\"#DejaVuSans-97\"/>\r\n     <use x=\"745.740234\" xlink:href=\"#DejaVuSans-108\"/>\r\n     <use x=\"773.523438\" xlink:href=\"#DejaVuSans-115\"/>\r\n     <use x=\"825.623047\" xlink:href=\"#DejaVuSans-32\"/>\r\n     <use x=\"857.410156\" xlink:href=\"#DejaVuSans-98\"/>\r\n     <use x=\"920.886719\" xlink:href=\"#DejaVuSans-121\"/>\r\n     <use x=\"980.066406\" xlink:href=\"#DejaVuSans-32\"/>\r\n     <use x=\"1011.853516\" xlink:href=\"#DejaVuSans-84\"/>\r\n     <use x=\"1055.9375\" xlink:href=\"#DejaVuSans-101\"/>\r\n     <use x=\"1117.460938\" xlink:href=\"#DejaVuSans-97\"/>\r\n     <use x=\"1178.740234\" xlink:href=\"#DejaVuSans-109\"/>\r\n     <use x=\"1276.152344\" xlink:href=\"#DejaVuSans-32\"/>\r\n     <use x=\"1307.939453\" xlink:href=\"#DejaVuSans-112\"/>\r\n     <use x=\"1371.416016\" xlink:href=\"#DejaVuSans-101\"/>\r\n     <use x=\"1432.939453\" xlink:href=\"#DejaVuSans-114\"/>\r\n     <use x=\"1474.052734\" xlink:href=\"#DejaVuSans-32\"/>\r\n     <use x=\"1505.839844\" xlink:href=\"#DejaVuSans-71\"/>\r\n     <use x=\"1583.330078\" xlink:href=\"#DejaVuSans-97\"/>\r\n     <use x=\"1644.609375\" xlink:href=\"#DejaVuSans-109\"/>\r\n     <use x=\"1742.021484\" xlink:href=\"#DejaVuSans-101\"/>\r\n     <use x=\"1803.544922\" xlink:href=\"#DejaVuSans-32\"/>\r\n     <use x=\"1835.332031\" xlink:href=\"#DejaVuSans-40\"/>\r\n     <use x=\"1874.345703\" xlink:href=\"#DejaVuSans-111\"/>\r\n     <use x=\"1935.527344\" xlink:href=\"#DejaVuSans-118\"/>\r\n     <use x=\"1994.707031\" xlink:href=\"#DejaVuSans-101\"/>\r\n     <use x=\"2056.230469\" xlink:href=\"#DejaVuSans-114\"/>\r\n     <use x=\"2097.34375\" xlink:href=\"#DejaVuSans-32\"/>\r\n     <use x=\"2129.130859\" xlink:href=\"#DejaVuSans-116\"/>\r\n     <use x=\"2168.339844\" xlink:href=\"#DejaVuSans-104\"/>\r\n     <use x=\"2231.71875\" xlink:href=\"#DejaVuSans-101\"/>\r\n     <use x=\"2293.242188\" xlink:href=\"#DejaVuSans-32\"/>\r\n     <use x=\"2325.029297\" xlink:href=\"#DejaVuSans-50\"/>\r\n     <use x=\"2388.652344\" xlink:href=\"#DejaVuSans-48\"/>\r\n     <use x=\"2452.275391\" xlink:href=\"#DejaVuSans-49\"/>\r\n     <use x=\"2515.898438\" xlink:href=\"#DejaVuSans-55\"/>\r\n     <use x=\"2579.521484\" xlink:href=\"#DejaVuSans-45\"/>\r\n     <use x=\"2615.605469\" xlink:href=\"#DejaVuSans-50\"/>\r\n     <use x=\"2679.228516\" xlink:href=\"#DejaVuSans-48\"/>\r\n     <use x=\"2742.851562\" xlink:href=\"#DejaVuSans-49\"/>\r\n     <use x=\"2806.474609\" xlink:href=\"#DejaVuSans-56\"/>\r\n     <use x=\"2870.097656\" xlink:href=\"#DejaVuSans-32\"/>\r\n     <use x=\"2901.884766\" xlink:href=\"#DejaVuSans-97\"/>\r\n     <use x=\"2963.164062\" xlink:href=\"#DejaVuSans-110\"/>\r\n     <use x=\"3026.542969\" xlink:href=\"#DejaVuSans-100\"/>\r\n     <use x=\"3090.019531\" xlink:href=\"#DejaVuSans-32\"/>\r\n     <use x=\"3121.806641\" xlink:href=\"#DejaVuSans-50\"/>\r\n     <use x=\"3185.429688\" xlink:href=\"#DejaVuSans-48\"/>\r\n     <use x=\"3249.052734\" xlink:href=\"#DejaVuSans-49\"/>\r\n     <use x=\"3312.675781\" xlink:href=\"#DejaVuSans-56\"/>\r\n     <use x=\"3376.298828\" xlink:href=\"#DejaVuSans-45\"/>\r\n     <use x=\"3412.382812\" xlink:href=\"#DejaVuSans-50\"/>\r\n     <use x=\"3476.005859\" xlink:href=\"#DejaVuSans-48\"/>\r\n     <use x=\"3539.628906\" xlink:href=\"#DejaVuSans-49\"/>\r\n     <use x=\"3603.251953\" xlink:href=\"#DejaVuSans-57\"/>\r\n     <use x=\"3666.875\" xlink:href=\"#DejaVuSans-32\"/>\r\n     <use x=\"3698.662109\" xlink:href=\"#DejaVuSans-83\"/>\r\n     <use x=\"3762.138672\" xlink:href=\"#DejaVuSans-101\"/>\r\n     <use x=\"3823.662109\" xlink:href=\"#DejaVuSans-97\"/>\r\n     <use x=\"3884.941406\" xlink:href=\"#DejaVuSans-115\"/>\r\n     <use x=\"3937.041016\" xlink:href=\"#DejaVuSans-111\"/>\r\n     <use x=\"3998.222656\" xlink:href=\"#DejaVuSans-110\"/>\r\n     <use x=\"4061.601562\" xlink:href=\"#DejaVuSans-115\"/>\r\n    </g>\r\n   </g>\r\n  </g>\r\n </g>\r\n <defs>\r\n  <clipPath id=\"paa590755d4\">\r\n   <rect height=\"217.44\" width=\"334.8\" x=\"86.623125\" y=\"22.318125\"/>\r\n  </clipPath>\r\n </defs>\r\n</svg>\r\n",
      "image/png": "[encoded data removed]"
     },
     "metadata": {
      "needs_background": "light"
     }
    }
   ],
   "source": [
    "# To take things a step further, aggregates can be created at the team-level as a total of a column by all players belonging to one team\n",
    "\n",
    "# Let's use powerplay goals as an example\n",
    "team_ppg=skater_stats.groupby(['abbreviation'])['powerPlayGoals'].agg('mean').nlargest(5)\n",
    "\n",
    "team_ppg.sort_values(ascending=False).plot(kind='bar', title='Powerplay Goals by Team per Game (over the 2017-2018 and 2018-2019 Seasons')"
   ]
  },
  {
   "source": [
    "The different levels of abstraction that player-level metrics can be used for "
   ],
   "cell_type": "markdown",
   "metadata": {}
  }
 ]
}