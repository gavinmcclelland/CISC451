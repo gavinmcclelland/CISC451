{
 "metadata": {
  "language_info": {
   "codemirror_mode": {
    "name": "ipython",
    "version": 3
   },
   "file_extension": ".py",
   "mimetype": "text/x-python",
   "name": "python",
   "nbconvert_exporter": "python",
   "pygments_lexer": "ipython3",
   "version": 3
  },
  "orig_nbformat": 2
 },
 "nbformat": 4,
 "nbformat_minor": 2,
 "cells": [
  {
   "cell_type": "code",
   "execution_count": null,
   "metadata": {},
   "outputs": [],
   "source": [
    "import numpy as np \n",
    "import pandas as pd \n",
    "import matplotlib.pyplot as plt \n",
    "# %cd \"<your working directory here>\"\n",
    "%matplotlib inline"
   ]
  },
  {
   "source": [
    "# Basic Preprocessing - Only needed to be done once"
   ],
   "cell_type": "markdown",
   "metadata": {}
  },
  {
   "cell_type": "code",
   "execution_count": null,
   "metadata": {},
   "outputs": [],
   "source": [
    "# the 'plays' dataset is huge, containing 3632349 individual plays and is nearly 600MB in size, as such, only data after the end of the 2016-2017 NHL season will be used. \n",
    "# this will be written to a new csv for submission and ease of use moving forward\n",
    "iter_csv = pd.read_csv('game_plays.csv',iterator=True,chunksize=1000)\n",
    "plays = pd.concat([chunk[chunk['game_id']>2016030416] for chunk in iter_csv]) "
   ]
  },
  {
   "cell_type": "code",
   "execution_count": null,
   "metadata": {},
   "outputs": [],
   "source": [
    "games = pd.read_csv('game.csv')\n",
    "skater_stats = pd.read_csv('game_skater_stats.csv')\n",
    "team_stats = pd.read_csv('game_teams_stats.csv')\n",
    "s_info = pd.read_csv('player_info.csv') # static library of players\n",
    "t_info = pd.read_csv('team_info.csv') # static library of teams"
   ]
  },
  {
   "cell_type": "code",
   "execution_count": null,
   "metadata": {},
   "outputs": [],
   "source": [
    "# Get dataframes for other datasets from after the end of the 2016-2017 season to align with the 'plays' dataset\n",
    "skater_stats = skater_stats[skater_stats['game_id']>2016030416]\n",
    "team_stats = team_stats[team_stats['game_id']>2016030416]\n",
    "games = games[games['game_id']>2016030416]"
   ]
  },
  {
   "cell_type": "code",
   "execution_count": null,
   "metadata": {},
   "outputs": [],
   "source": [
    "# Now that we have our dataframes, write them to new csvs for future reference\n",
    "# %cd \"<your working directory here>\""
   ]
  },
  {
   "cell_type": "code",
   "execution_count": null,
   "metadata": {},
   "outputs": [],
   "source": [
    "plays.to_csv('plays_2017-2018_2018-2019.csv',index=False)\n",
    "games.to_csv('games_2017-2018_2018-2019.csv',index=False)\n",
    "team_stats.to_csv('teamstats_2017-2018_2018-2019.csv',index=False)\n",
    "skater_stats.to_csv('skaterstats_2017-2018_2018-2019.csv',index=False)"
   ]
  }
 ]
}